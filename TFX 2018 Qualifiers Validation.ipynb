{
 "cells": [
  {
   "cell_type": "markdown",
   "metadata": {},
   "source": [
    "# TFX 2018 Online Qualifier Verification\n",
    "Verification of the 2018 TFX Online Qualifier Competition Leaderboard\n",
    "\n",
    "December 2017"
   ]
  },
  {
   "cell_type": "markdown",
   "metadata": {},
   "source": [
    "#### Author\n",
    "Dax Garner,\n",
    "dax.garner@gmail.com"
   ]
  },
  {
   "cell_type": "markdown",
   "metadata": {},
   "source": [
    "## Executive Summary\n",
    "The analysis showcases irregularities in the results for the 2018 The Fittest Experience (TFX) Online Qualifier held in October 2017. The leaderboard results are hosted and assessed by the third-part company FloElite. \n",
    "\n",
    "The details in this analysis showcase that a large percentage of athlete's ranks are not consistent within the expectations and rules of the TFX competition. The most significant finding is for the Women's Pro/Amature Division, where Amanda Garces may have been excluded from the Women's Pro Division due to inconsistencies in the rankings of other athletes in Events 1, 2 and 3. This and other findings have implications about whether additional athletes received invitations for the correct division or received invitations at all for the TFX competition in January 2018.\n",
    "\n",
    "The hope is for this analysis to demonstrate the need for oversight and verification of the competition results. I call to action both [TFX](https://www.thefittestexperience.com/) and [FloElite](https://www.floelite.com/) to review these findings and assess internal processes to provide confidence and integrity in the results for the TFX competition in January and beyond."
   ]
  },
  {
   "cell_type": "markdown",
   "metadata": {},
   "source": [
    "## Introduction\n",
    "As a Crossfit athlete, I recently competed in The 2018 Fittest Experience (TFX) Online Qualifier back in October 2017.  As a data scientist and nerd, I was interested in analyzing the data from the qualifier to help me understand my competition come January. For details on the competition, see the [online qualifier details](https://www.thefittestexperience.com/qualifier-details/). Thus, I set out with the following question: \n",
    "\n",
    "\"What event(s) could I have made the smallest improvement to maximize my overall ranking?\" \n",
    "\n",
    "However, as I dug into the data, it quickly became a lesson in data cleaning with some interesting results. Here is what I found."
   ]
  },
  {
   "cell_type": "markdown",
   "metadata": {},
   "source": [
    "## Web Scraping\n",
    "First, extracting the results from the web. The competition leaderboard is hosted by FloElite at\n",
    "\n",
    "http://registration.floelite.com/competitions/50/divisions/210/scoreboard. \n",
    "\n",
    "FloElite publishes the leaderboard data as an HTML table. For scraping the data from an HTML table, there is a great tutorial and sample code to start from:\n",
    "\n",
    "http://srome.github.io/Parsing-HTML-Tables-in-Python-with-BeautifulSoup-and-pandas/. \n",
    "\n",
    "There are some differences in assumptions/expectations of the type of table parsed by the sample code and the FloElite TFX leaderboard table. The module [tfx_extract.py](tfx_extract.py) contains all the necessary modifications to parse the leaderboard, and is utilized in the analysis to obtain the data generated and published by FloElite."
   ]
  },
  {
   "cell_type": "markdown",
   "metadata": {},
   "source": [
    "### Inputs\n",
    "The only input to extracting and analyzing the data is the division of interest. For more information on the divisions, see the [qualifier details](https://www.thefittestexperience.com/qualifier-details/). The first division analyzed is the Intermediate/Scaled Male Division, because I competed in that division:"
   ]
  },
  {
   "cell_type": "code",
   "execution_count": 1,
   "metadata": {
    "collapsed": false
   },
   "outputs": [
    {
     "data": {
      "text/html": [
       "\n",
       "          <script src=\"/static/components/requirejs/require.js\"></script>\n",
       "          <script>\n",
       "            requirejs.config({\n",
       "              paths: {\n",
       "                base: '/static/base',\n",
       "              },\n",
       "            });\n",
       "          </script>\n",
       "          "
      ],
      "text/plain": [
       "<IPython.core.display.HTML object>"
      ]
     },
     "metadata": {},
     "output_type": "display_data"
    }
   ],
   "source": [
    "division = \"ISM\""
   ]
  },
  {
   "cell_type": "markdown",
   "metadata": {},
   "source": [
    "### Configuration\n",
    "The division input is a shorthand abbreviation that is arbitrarily set by a configuration table created by manually scraping data from the TFX website and the FloElite leaderboard. The *divid* is the division identification number used by FloElite to differientiate the different leaderboards for each division, and is used to properly construct the URL when parsing the data. The *max_page* is the number of pages in the leaderboard for the division. The *n_qualified* is the total number of qualifying spots for the division, and the *name* is the full descriptor of the division. \n",
    "\n",
    "Keep in mind, for the Pro/Amateur and Intermediate/Scaled divisions, the total number of qualifying spots is the number of spots for Pro plus the number of spots for Amateur and similarly for Intermediate/Scaled. Thus for Pro/Amateur Men, *n_qualified* is 30 for the Pro division and 60 for the Amateur division, which equates to 90."
   ]
  },
  {
   "cell_type": "code",
   "execution_count": 2,
   "metadata": {
    "collapsed": false
   },
   "outputs": [
    {
     "data": {
      "text/html": [
       "\n",
       "          <script src=\"/static/components/requirejs/require.js\"></script>\n",
       "          <script>\n",
       "            requirejs.config({\n",
       "              paths: {\n",
       "                base: '/static/base',\n",
       "              },\n",
       "            });\n",
       "          </script>\n",
       "          "
      ],
      "text/plain": [
       "<IPython.core.display.HTML object>"
      ]
     },
     "metadata": {},
     "output_type": "display_data"
    },
    {
     "data": {
      "text/html": [
       "<div>\n",
       "<table border=\"1\" class=\"dataframe\">\n",
       "  <thead>\n",
       "    <tr style=\"text-align: right;\">\n",
       "      <th></th>\n",
       "      <th>divid</th>\n",
       "      <th>max_page</th>\n",
       "      <th>n_qualified</th>\n",
       "      <th>name</th>\n",
       "    </tr>\n",
       "  </thead>\n",
       "  <tbody>\n",
       "    <tr>\n",
       "      <th>ISM</th>\n",
       "      <td>216</td>\n",
       "      <td>17</td>\n",
       "      <td>145</td>\n",
       "      <td>Intermediate/Scaled Men</td>\n",
       "    </tr>\n",
       "    <tr>\n",
       "      <th>ISW</th>\n",
       "      <td>217</td>\n",
       "      <td>12</td>\n",
       "      <td>100</td>\n",
       "      <td>Intermediate/Scaled Women</td>\n",
       "    </tr>\n",
       "    <tr>\n",
       "      <th>M35M</th>\n",
       "      <td>218</td>\n",
       "      <td>4</td>\n",
       "      <td>30</td>\n",
       "      <td>Masters 35-39 Men</td>\n",
       "    </tr>\n",
       "    <tr>\n",
       "      <th>M35W</th>\n",
       "      <td>219</td>\n",
       "      <td>2</td>\n",
       "      <td>20</td>\n",
       "      <td>Masters 35-39 Women</td>\n",
       "    </tr>\n",
       "    <tr>\n",
       "      <th>M40M</th>\n",
       "      <td>221</td>\n",
       "      <td>3</td>\n",
       "      <td>30</td>\n",
       "      <td>Masters 40-44 Men</td>\n",
       "    </tr>\n",
       "    <tr>\n",
       "      <th>M40W</th>\n",
       "      <td>220</td>\n",
       "      <td>2</td>\n",
       "      <td>20</td>\n",
       "      <td>Masters 40-44 Women</td>\n",
       "    </tr>\n",
       "    <tr>\n",
       "      <th>M45M</th>\n",
       "      <td>222</td>\n",
       "      <td>2</td>\n",
       "      <td>20</td>\n",
       "      <td>Masters 45-49 Men</td>\n",
       "    </tr>\n",
       "    <tr>\n",
       "      <th>M45W</th>\n",
       "      <td>223</td>\n",
       "      <td>1</td>\n",
       "      <td>10</td>\n",
       "      <td>Masters 45-49 Women</td>\n",
       "    </tr>\n",
       "    <tr>\n",
       "      <th>M50M</th>\n",
       "      <td>224</td>\n",
       "      <td>2</td>\n",
       "      <td>10</td>\n",
       "      <td>Masters 50+ Men</td>\n",
       "    </tr>\n",
       "    <tr>\n",
       "      <th>M50W</th>\n",
       "      <td>225</td>\n",
       "      <td>1</td>\n",
       "      <td>10</td>\n",
       "      <td>Masters 50+ Women</td>\n",
       "    </tr>\n",
       "    <tr>\n",
       "      <th>PAM</th>\n",
       "      <td>210</td>\n",
       "      <td>9</td>\n",
       "      <td>90</td>\n",
       "      <td>Pro/Amateur Men</td>\n",
       "    </tr>\n",
       "    <tr>\n",
       "      <th>PAW</th>\n",
       "      <td>211</td>\n",
       "      <td>5</td>\n",
       "      <td>70</td>\n",
       "      <td>Pro/Amateur Women</td>\n",
       "    </tr>\n",
       "    <tr>\n",
       "      <th>T14M</th>\n",
       "      <td>226</td>\n",
       "      <td>1</td>\n",
       "      <td>5</td>\n",
       "      <td>Teen 14-15 Men</td>\n",
       "    </tr>\n",
       "    <tr>\n",
       "      <th>T14W</th>\n",
       "      <td>227</td>\n",
       "      <td>1</td>\n",
       "      <td>5</td>\n",
       "      <td>Teen 14-15 Women</td>\n",
       "    </tr>\n",
       "    <tr>\n",
       "      <th>T16M</th>\n",
       "      <td>228</td>\n",
       "      <td>1</td>\n",
       "      <td>10</td>\n",
       "      <td>Teen 16-17 Men</td>\n",
       "    </tr>\n",
       "    <tr>\n",
       "      <th>T16W</th>\n",
       "      <td>229</td>\n",
       "      <td>1</td>\n",
       "      <td>10</td>\n",
       "      <td>Teen 16-17 Woman</td>\n",
       "    </tr>\n",
       "    <tr>\n",
       "      <th>TD</th>\n",
       "      <td>212</td>\n",
       "      <td>3</td>\n",
       "      <td>50</td>\n",
       "      <td>Team Division</td>\n",
       "    </tr>\n",
       "  </tbody>\n",
       "</table>\n",
       "</div>"
      ],
      "text/plain": [
       "     divid max_page n_qualified                       name\n",
       "ISM    216       17         145    Intermediate/Scaled Men\n",
       "ISW    217       12         100  Intermediate/Scaled Women\n",
       "M35M   218        4          30          Masters 35-39 Men\n",
       "M35W   219        2          20        Masters 35-39 Women\n",
       "M40M   221        3          30          Masters 40-44 Men\n",
       "M40W   220        2          20        Masters 40-44 Women\n",
       "M45M   222        2          20          Masters 45-49 Men\n",
       "M45W   223        1          10        Masters 45-49 Women\n",
       "M50M   224        2          10            Masters 50+ Men\n",
       "M50W   225        1          10          Masters 50+ Women\n",
       "PAM    210        9          90            Pro/Amateur Men\n",
       "PAW    211        5          70          Pro/Amateur Women\n",
       "T14M   226        1           5             Teen 14-15 Men\n",
       "T14W   227        1           5           Teen 14-15 Women\n",
       "T16M   228        1          10             Teen 16-17 Men\n",
       "T16W   229        1          10           Teen 16-17 Woman\n",
       "TD     212        3          50              Team Division"
      ]
     },
     "execution_count": 2,
     "metadata": {},
     "output_type": "execute_result"
    }
   ],
   "source": [
    "dmap = {\"ISM\": {\"name\": \"Intermediate/Scaled Men\", \"divid\": 216, \"max_page\": 17, \"n_qualified\":85+60},\n",
    "        \"ISW\": {\"name\": \"Intermediate/Scaled Women\", \"divid\": 217, \"max_page\": 12, \"n_qualified\":60+40},\n",
    "        \"PAM\": {\"name\": \"Pro/Amateur Men\", \"divid\": 210, \"max_page\": 9, \"n_qualified\": 30+60},\n",
    "        \"PAW\": {\"name\": \"Pro/Amateur Women\", \"divid\": 211, \"max_page\": 5, \"n_qualified\": 20+50},\n",
    "        \"M35M\": {\"name\": \"Masters 35-39 Men\", \"divid\": 218, \"max_page\": 4, \"n_qualified\": 30},\n",
    "        \"M35W\": {\"name\": \"Masters 35-39 Women\", \"divid\": 219, \"max_page\": 2, \"n_qualified\": 20},\n",
    "        \"M40M\": {\"name\": \"Masters 40-44 Men\", \"divid\": 221, \"max_page\": 3, \"n_qualified\": 30},\n",
    "        \"M40W\": {\"name\": \"Masters 40-44 Women\", \"divid\": 220, \"max_page\": 2, \"n_qualified\": 20},\n",
    "        \"M45M\": {\"name\": \"Masters 45-49 Men\", \"divid\": 222, \"max_page\": 2, \"n_qualified\": 20},\n",
    "        \"M45W\": {\"name\": \"Masters 45-49 Women\", \"divid\": 223, \"max_page\": 1, \"n_qualified\": 10},\n",
    "        \"M50M\": {\"name\": \"Masters 50+ Men\", \"divid\": 224, \"max_page\": 2, \"n_qualified\": 10},\n",
    "        \"M50W\": {\"name\": \"Masters 50+ Women\", \"divid\": 225, \"max_page\": 1, \"n_qualified\": 10},\n",
    "        \"TD\":   {\"name\": \"Team Division\", \"divid\": 212, \"max_page\": 3, \"n_qualified\": 20+30},\n",
    "        \"T14M\": {\"name\": \"Teen 14-15 Men\", \"divid\": 226, \"max_page\": 1, \"n_qualified\": 5},\n",
    "        \"T14W\": {\"name\": \"Teen 14-15 Women\", \"divid\": 227, \"max_page\": 1, \"n_qualified\": 5},\n",
    "        \"T16M\": {\"name\": \"Teen 16-17 Men\", \"divid\": 228, \"max_page\": 1, \"n_qualified\": 10},\n",
    "        \"T16W\": {\"name\": \"Teen 16-17 Woman\", \"divid\": 229, \"max_page\": 1, \"n_qualified\": 10},\n",
    "       }\n",
    "\n",
    "import pandas as pd\n",
    "\n",
    "pd.DataFrame(dmap).T"
   ]
  },
  {
   "cell_type": "markdown",
   "metadata": {},
   "source": [
    "### Extract\n",
    "Extracting the Intermediate/Scaled Men's division data directly from the FloElite leaderboard."
   ]
  },
  {
   "cell_type": "code",
   "execution_count": 3,
   "metadata": {
    "collapsed": false
   },
   "outputs": [
    {
     "data": {
      "text/html": [
       "\n",
       "          <script src=\"/static/components/requirejs/require.js\"></script>\n",
       "          <script>\n",
       "            requirejs.config({\n",
       "              paths: {\n",
       "                base: '/static/base',\n",
       "              },\n",
       "            });\n",
       "          </script>\n",
       "          "
      ],
      "text/plain": [
       "<IPython.core.display.HTML object>"
      ]
     },
     "metadata": {},
     "output_type": "display_data"
    }
   ],
   "source": [
    "from tfx_extract import *\n",
    "\n",
    "# Simple url string construction function\n",
    "def get_tfx_url(div, page=1):\n",
    "    return \"http://registration.floelite.com/competitions/50/divisions/\"+str(div)+\"/scoreboard?page=\"+str(page)"
   ]
  },
  {
   "cell_type": "code",
   "execution_count": 4,
   "metadata": {
    "collapsed": false
   },
   "outputs": [
    {
     "data": {
      "text/html": [
       "\n",
       "          <script src=\"/static/components/requirejs/require.js\"></script>\n",
       "          <script>\n",
       "            requirejs.config({\n",
       "              paths: {\n",
       "                base: '/static/base',\n",
       "              },\n",
       "            });\n",
       "          </script>\n",
       "          "
      ],
      "text/plain": [
       "<IPython.core.display.HTML object>"
      ]
     },
     "metadata": {},
     "output_type": "display_data"
    },
    {
     "name": "stdout",
     "output_type": "stream",
     "text": [
      "Extracting data from the leaderboard...\n",
      "\n"
     ]
    },
    {
     "data": {
      "text/html": [
       "<div>\n",
       "<table border=\"1\" class=\"dataframe\">\n",
       "  <thead>\n",
       "    <tr style=\"text-align: right;\">\n",
       "      <th></th>\n",
       "      <th>Rank</th>\n",
       "      <th>Q1R</th>\n",
       "      <th>Q1S</th>\n",
       "      <th>Q2R</th>\n",
       "      <th>Q2S</th>\n",
       "      <th>Q3R</th>\n",
       "      <th>Q3S</th>\n",
       "      <th>Q4R</th>\n",
       "      <th>Q4S</th>\n",
       "      <th>Q5R</th>\n",
       "      <th>Q5S</th>\n",
       "      <th>Q6R</th>\n",
       "      <th>Q6S</th>\n",
       "      <th>Total Score</th>\n",
       "      <th>Gym</th>\n",
       "    </tr>\n",
       "    <tr>\n",
       "      <th>Athlete</th>\n",
       "      <th></th>\n",
       "      <th></th>\n",
       "      <th></th>\n",
       "      <th></th>\n",
       "      <th></th>\n",
       "      <th></th>\n",
       "      <th></th>\n",
       "      <th></th>\n",
       "      <th></th>\n",
       "      <th></th>\n",
       "      <th></th>\n",
       "      <th></th>\n",
       "      <th></th>\n",
       "      <th></th>\n",
       "      <th></th>\n",
       "    </tr>\n",
       "  </thead>\n",
       "  <tbody>\n",
       "    <tr>\n",
       "      <th>Jonathan Vanover</th>\n",
       "      <td>1</td>\n",
       "      <td>4.0</td>\n",
       "      <td>330.0</td>\n",
       "      <td>24.0</td>\n",
       "      <td>331.0</td>\n",
       "      <td>7.0</td>\n",
       "      <td>291.0</td>\n",
       "      <td>113.0</td>\n",
       "      <td>334.0</td>\n",
       "      <td>5.0</td>\n",
       "      <td>268.0</td>\n",
       "      <td>30.0</td>\n",
       "      <td>64.0</td>\n",
       "      <td>183</td>\n",
       "      <td>House of Power</td>\n",
       "    </tr>\n",
       "    <tr>\n",
       "      <th>Zentez Eleby</th>\n",
       "      <td>2</td>\n",
       "      <td>72.0</td>\n",
       "      <td>290.0</td>\n",
       "      <td>33.0</td>\n",
       "      <td>327.0</td>\n",
       "      <td>27.0</td>\n",
       "      <td>265.0</td>\n",
       "      <td>52.0</td>\n",
       "      <td>369.0</td>\n",
       "      <td>12.0</td>\n",
       "      <td>245.0</td>\n",
       "      <td>1.0</td>\n",
       "      <td>77.0</td>\n",
       "      <td>197</td>\n",
       "      <td>Sherman powerfit</td>\n",
       "    </tr>\n",
       "    <tr>\n",
       "      <th>Jean Banos</th>\n",
       "      <td>3</td>\n",
       "      <td>1.0</td>\n",
       "      <td>344.0</td>\n",
       "      <td>41.0</td>\n",
       "      <td>325.0</td>\n",
       "      <td>16.0</td>\n",
       "      <td>275.0</td>\n",
       "      <td>123.0</td>\n",
       "      <td>324.0</td>\n",
       "      <td>19.0</td>\n",
       "      <td>242.0</td>\n",
       "      <td>8.0</td>\n",
       "      <td>70.0</td>\n",
       "      <td>208</td>\n",
       "      <td>Warhouse Strength &amp; Conditioning</td>\n",
       "    </tr>\n",
       "    <tr>\n",
       "      <th>Scott Church</th>\n",
       "      <td>4</td>\n",
       "      <td>4.0</td>\n",
       "      <td>330.0</td>\n",
       "      <td>5.0</td>\n",
       "      <td>356.0</td>\n",
       "      <td>27.0</td>\n",
       "      <td>265.0</td>\n",
       "      <td>72.0</td>\n",
       "      <td>363.0</td>\n",
       "      <td>36.0</td>\n",
       "      <td>235.0</td>\n",
       "      <td>68.0</td>\n",
       "      <td>62.0</td>\n",
       "      <td>212</td>\n",
       "      <td>Garage Gym</td>\n",
       "    </tr>\n",
       "    <tr>\n",
       "      <th>Brandon Head</th>\n",
       "      <td>5</td>\n",
       "      <td>17.0</td>\n",
       "      <td>318.0</td>\n",
       "      <td>27.0</td>\n",
       "      <td>329.0</td>\n",
       "      <td>27.0</td>\n",
       "      <td>265.0</td>\n",
       "      <td>133.0</td>\n",
       "      <td>323.0</td>\n",
       "      <td>22.0</td>\n",
       "      <td>240.0</td>\n",
       "      <td>1.0</td>\n",
       "      <td>77.0</td>\n",
       "      <td>227</td>\n",
       "      <td>Grapevine CrossFit</td>\n",
       "    </tr>\n",
       "  </tbody>\n",
       "</table>\n",
       "</div>"
      ],
      "text/plain": [
       "                  Rank   Q1R    Q1S   Q2R    Q2S   Q3R    Q3S    Q4R    Q4S  \\\n",
       "Athlete                                                                       \n",
       "Jonathan Vanover     1   4.0  330.0  24.0  331.0   7.0  291.0  113.0  334.0   \n",
       "Zentez Eleby         2  72.0  290.0  33.0  327.0  27.0  265.0   52.0  369.0   \n",
       "Jean Banos           3   1.0  344.0  41.0  325.0  16.0  275.0  123.0  324.0   \n",
       "Scott Church         4   4.0  330.0   5.0  356.0  27.0  265.0   72.0  363.0   \n",
       "Brandon Head         5  17.0  318.0  27.0  329.0  27.0  265.0  133.0  323.0   \n",
       "\n",
       "                   Q5R    Q5S   Q6R   Q6S  Total Score  \\\n",
       "Athlete                                                  \n",
       "Jonathan Vanover   5.0  268.0  30.0  64.0          183   \n",
       "Zentez Eleby      12.0  245.0   1.0  77.0          197   \n",
       "Jean Banos        19.0  242.0   8.0  70.0          208   \n",
       "Scott Church      36.0  235.0  68.0  62.0          212   \n",
       "Brandon Head      22.0  240.0   1.0  77.0          227   \n",
       "\n",
       "                                               Gym  \n",
       "Athlete                                             \n",
       "Jonathan Vanover                    House of Power  \n",
       "Zentez Eleby                      Sherman powerfit  \n",
       "Jean Banos        Warhouse Strength & Conditioning  \n",
       "Scott Church                            Garage Gym  \n",
       "Brandon Head                    Grapevine CrossFit  "
      ]
     },
     "execution_count": 4,
     "metadata": {},
     "output_type": "execute_result"
    }
   ],
   "source": [
    "# Extract\n",
    "def extract(division):\n",
    "  hp = TfxHTMLTableParser()\n",
    "  # Get data from each page\n",
    "  print(\"Extracting data from the leaderboard...\\n\")\n",
    "  #print(\"Page {}\".format(1))\n",
    "  table = hp.parse_url(get_tfx_url(dmap[division][\"divid\"]))\n",
    "  for i in range(2, dmap[division][\"max_page\"]+1):\n",
    "      #print(\"Page {}\".format(i))\n",
    "      table = table.append(hp.parse_url(get_tfx_url(dmap[division][\"divid\"], i)))\n",
    "  return table\n",
    "table = extract(division)\n",
    "table.head()"
   ]
  },
  {
   "cell_type": "markdown",
   "metadata": {},
   "source": [
    "The full leaderboard for the Intermediate/Scaled division is extracted into a dataframe, but only the top, or head, of the leaderboard is displayed above to be brief. The HTML table parser in tfx_extract.py creates separate columes for the rank and score of the individual events. Thus, an athlete's rank for Event 1 is in the \"Q1R\" column, and the athlete's Event 1 score is in the \"Q1S\" column.\n",
    "\n",
    "Double checking the scraping, here is a snapshot of the top of the Intermediate/Scaled Men's division leaderboard from the [webpage](http://registration.floelite.com/competitions/50/divisions/216/scoreboard):\n",
    "\n",
    "![](ism_top_leaderboard.png \"Actual Intermediate/Scaled Men Leaderboard\")\n",
    "\n",
    "Spot checking the data in the dataframe with the webpage results confirms the raw data is correctly scraped from the FloElite site. However, there are a bunch of not-a-numbers (NaNs) where athletes did not enter a score for an event."
   ]
  },
  {
   "cell_type": "markdown",
   "metadata": {},
   "source": [
    "### Initial Clean-up\n",
    "First, in order to analyze this data in detail, the NaNs need to be resolved. Thus, two assumptions are made:\n",
    "* For each event, if an athlete does not have a score, set the score to zero\n",
    "* For each event, if an athlete does not have a rank, set the rank to the maximum event rank plus one (last place)\n",
    "\n",
    "A blank event score effectively means the athlete recieved a score of zero and a rank of last place. So, hypothetically, if FloElite computed a last place rank for an event at 209, then for all the athletes with blank entries they receive a score of 0.0 and a rank of 210.\n",
    "\n",
    "Last, duplicate athlete names are taken into account, which is actually necessary for the Pro/Amature Men's division at least."
   ]
  },
  {
   "cell_type": "code",
   "execution_count": 5,
   "metadata": {
    "collapsed": false
   },
   "outputs": [
    {
     "data": {
      "text/html": [
       "\n",
       "          <script src=\"/static/components/requirejs/require.js\"></script>\n",
       "          <script>\n",
       "            requirejs.config({\n",
       "              paths: {\n",
       "                base: '/static/base',\n",
       "              },\n",
       "            });\n",
       "          </script>\n",
       "          "
      ],
      "text/plain": [
       "<IPython.core.display.HTML object>"
      ]
     },
     "metadata": {},
     "output_type": "display_data"
    },
    {
     "data": {
      "text/html": [
       "<div>\n",
       "<table border=\"1\" class=\"dataframe\">\n",
       "  <thead>\n",
       "    <tr style=\"text-align: right;\">\n",
       "      <th></th>\n",
       "      <th>Rank</th>\n",
       "      <th>Q1R</th>\n",
       "      <th>Q1S</th>\n",
       "      <th>Q2R</th>\n",
       "      <th>Q2S</th>\n",
       "      <th>Q3R</th>\n",
       "      <th>Q3S</th>\n",
       "      <th>Q4R</th>\n",
       "      <th>Q4S</th>\n",
       "      <th>Q5R</th>\n",
       "      <th>Q5S</th>\n",
       "      <th>Q6R</th>\n",
       "      <th>Q6S</th>\n",
       "      <th>Total Score</th>\n",
       "      <th>Gym</th>\n",
       "    </tr>\n",
       "    <tr>\n",
       "      <th>Athlete</th>\n",
       "      <th></th>\n",
       "      <th></th>\n",
       "      <th></th>\n",
       "      <th></th>\n",
       "      <th></th>\n",
       "      <th></th>\n",
       "      <th></th>\n",
       "      <th></th>\n",
       "      <th></th>\n",
       "      <th></th>\n",
       "      <th></th>\n",
       "      <th></th>\n",
       "      <th></th>\n",
       "      <th></th>\n",
       "      <th></th>\n",
       "    </tr>\n",
       "  </thead>\n",
       "  <tbody>\n",
       "    <tr>\n",
       "      <th>Jonathan Vanover</th>\n",
       "      <td>1</td>\n",
       "      <td>4.0</td>\n",
       "      <td>330.0</td>\n",
       "      <td>24.0</td>\n",
       "      <td>331.0</td>\n",
       "      <td>7.0</td>\n",
       "      <td>291.0</td>\n",
       "      <td>113.0</td>\n",
       "      <td>334.0</td>\n",
       "      <td>5.0</td>\n",
       "      <td>268.0</td>\n",
       "      <td>30.0</td>\n",
       "      <td>64.0</td>\n",
       "      <td>183</td>\n",
       "      <td>House of Power</td>\n",
       "    </tr>\n",
       "    <tr>\n",
       "      <th>Zentez Eleby</th>\n",
       "      <td>2</td>\n",
       "      <td>72.0</td>\n",
       "      <td>290.0</td>\n",
       "      <td>33.0</td>\n",
       "      <td>327.0</td>\n",
       "      <td>27.0</td>\n",
       "      <td>265.0</td>\n",
       "      <td>52.0</td>\n",
       "      <td>369.0</td>\n",
       "      <td>12.0</td>\n",
       "      <td>245.0</td>\n",
       "      <td>1.0</td>\n",
       "      <td>77.0</td>\n",
       "      <td>197</td>\n",
       "      <td>Sherman powerfit</td>\n",
       "    </tr>\n",
       "    <tr>\n",
       "      <th>Jean Banos</th>\n",
       "      <td>3</td>\n",
       "      <td>1.0</td>\n",
       "      <td>344.0</td>\n",
       "      <td>41.0</td>\n",
       "      <td>325.0</td>\n",
       "      <td>16.0</td>\n",
       "      <td>275.0</td>\n",
       "      <td>123.0</td>\n",
       "      <td>324.0</td>\n",
       "      <td>19.0</td>\n",
       "      <td>242.0</td>\n",
       "      <td>8.0</td>\n",
       "      <td>70.0</td>\n",
       "      <td>208</td>\n",
       "      <td>Warhouse Strength &amp; Conditioning</td>\n",
       "    </tr>\n",
       "    <tr>\n",
       "      <th>Scott Church</th>\n",
       "      <td>4</td>\n",
       "      <td>4.0</td>\n",
       "      <td>330.0</td>\n",
       "      <td>5.0</td>\n",
       "      <td>356.0</td>\n",
       "      <td>27.0</td>\n",
       "      <td>265.0</td>\n",
       "      <td>72.0</td>\n",
       "      <td>363.0</td>\n",
       "      <td>36.0</td>\n",
       "      <td>235.0</td>\n",
       "      <td>68.0</td>\n",
       "      <td>62.0</td>\n",
       "      <td>212</td>\n",
       "      <td>Garage Gym</td>\n",
       "    </tr>\n",
       "    <tr>\n",
       "      <th>Brandon Head</th>\n",
       "      <td>5</td>\n",
       "      <td>17.0</td>\n",
       "      <td>318.0</td>\n",
       "      <td>27.0</td>\n",
       "      <td>329.0</td>\n",
       "      <td>27.0</td>\n",
       "      <td>265.0</td>\n",
       "      <td>133.0</td>\n",
       "      <td>323.0</td>\n",
       "      <td>22.0</td>\n",
       "      <td>240.0</td>\n",
       "      <td>1.0</td>\n",
       "      <td>77.0</td>\n",
       "      <td>227</td>\n",
       "      <td>Grapevine CrossFit</td>\n",
       "    </tr>\n",
       "  </tbody>\n",
       "</table>\n",
       "</div>"
      ],
      "text/plain": [
       "                  Rank   Q1R    Q1S   Q2R    Q2S   Q3R    Q3S    Q4R    Q4S  \\\n",
       "Athlete                                                                       \n",
       "Jonathan Vanover     1   4.0  330.0  24.0  331.0   7.0  291.0  113.0  334.0   \n",
       "Zentez Eleby         2  72.0  290.0  33.0  327.0  27.0  265.0   52.0  369.0   \n",
       "Jean Banos           3   1.0  344.0  41.0  325.0  16.0  275.0  123.0  324.0   \n",
       "Scott Church         4   4.0  330.0   5.0  356.0  27.0  265.0   72.0  363.0   \n",
       "Brandon Head         5  17.0  318.0  27.0  329.0  27.0  265.0  133.0  323.0   \n",
       "\n",
       "                   Q5R    Q5S   Q6R   Q6S  Total Score  \\\n",
       "Athlete                                                  \n",
       "Jonathan Vanover   5.0  268.0  30.0  64.0          183   \n",
       "Zentez Eleby      12.0  245.0   1.0  77.0          197   \n",
       "Jean Banos        19.0  242.0   8.0  70.0          208   \n",
       "Scott Church      36.0  235.0  68.0  62.0          212   \n",
       "Brandon Head      22.0  240.0   1.0  77.0          227   \n",
       "\n",
       "                                               Gym  \n",
       "Athlete                                             \n",
       "Jonathan Vanover                    House of Power  \n",
       "Zentez Eleby                      Sherman powerfit  \n",
       "Jean Banos        Warhouse Strength & Conditioning  \n",
       "Scott Church                            Garage Gym  \n",
       "Brandon Head                    Grapevine CrossFit  "
      ]
     },
     "execution_count": 5,
     "metadata": {},
     "output_type": "execute_result"
    }
   ],
   "source": [
    "# Do something with those NaNs now that we have all the data\n",
    "def clean_raw(table):\n",
    "  for e in range(1, 7):\n",
    "      col_rank = 'Q'+str(e)+'R'\n",
    "      col_scor = 'Q'+str(e)+'S'\n",
    "      table[col_rank].fillna(table[col_rank].max() + 1, inplace=True) # assumption\n",
    "      table[col_scor].fillna(0.0, inplace=True) # assumption\n",
    "  # Handle possible duplicate names\n",
    "  table.index = table.index + table.groupby(level=0).cumcount().astype(str).replace('0','')\n",
    "  table.index.rename('Athlete', inplace=True)\n",
    "  return table\n",
    "table = clean_raw(table)\n",
    "table.head()"
   ]
  },
  {
   "cell_type": "markdown",
   "metadata": {},
   "source": [
    "## Aside: Score-Rank Relationship\n",
    "Before diving into the analysis, is important to understand the basic rules and expecations within a Crossfit competition for score and resulting ranks."
   ]
  },
  {
   "cell_type": "markdown",
   "metadata": {},
   "source": [
    "### Individual Event Ranking\n",
    "Each individual event has a scoring metric to assess how well each athlete completes the event. For the 2018 TFX Qualifier, Events 1, 2, 4, 5, 6 were an As-Many-R[eps|ounds]-As-Possible (AMRAP) style workout. Event 3 was a maximum lift style workout. Thus, for all events, a high score (either in number of reps completed, or weight lifted) is directly related to a high rank (low numerical value). For example in Event 1, from the leaderboard results above, Jean Banos completed a total of 344 repetitions, which is the highest score, and thus, was awarded a rank of 1. "
   ]
  },
  {
   "cell_type": "markdown",
   "metadata": {},
   "source": [
    "### Overall Ranking\n",
    "Now, to assess the overall ranking of an athlete with respect to performance from all individual events, an athlete's Total Score is the sum of all the individual event ranks. For example from the data above, Jonathan Vanover received 4th in Event 1, 24th in Event 2, 7th in Event 3, 113th in Event 4, 5th in Event 5 and 30th in Event 6. Thus, Jonathan Vanover's Total Score is 4 + 24 + 7 + 113 + 5 + 30 = 183 points. Then, an athlete's overall Rank is determined by their Total Score. A low Total Score results in a high overall Rank (low numerical value). Therefore, Jonathan's 183 total points put him at first place in the Intermediate/Scaled Men's Division. Nice job, Jonathan!"
   ]
  },
  {
   "cell_type": "markdown",
   "metadata": {},
   "source": [
    "### Event Completion Rule\n",
    "The only other rule that significantly affects these results is affectionately named the Completion Rule:\n",
    "* Athletes must complete and enter a score for all events to be ranked in the overall standings\n",
    "\n",
    "This rule actually has interesting implications in the analysis, but more on that later."
   ]
  },
  {
   "cell_type": "markdown",
   "metadata": {},
   "source": [
    "## Analysis\n",
    "In order to answer the initial question, a series of relationships need to be made from the data extracted from the FloElite leaderboard."
   ]
  },
  {
   "cell_type": "markdown",
   "metadata": {},
   "source": [
    "### An Initial Look\n",
    "The first step to assess the data is to plot various relationships. First, plot the relationship between Total Score and overall Rank of the athletes in this division. The Total Scores and overall Rank data in the plot is directly from the FloElite leaderboard for the Intermediate/Scaled Men's division."
   ]
  },
  {
   "cell_type": "code",
   "execution_count": 6,
   "metadata": {
    "collapsed": false
   },
   "outputs": [
    {
     "data": {
      "text/html": [
       "\n",
       "          <script src=\"/static/components/requirejs/require.js\"></script>\n",
       "          <script>\n",
       "            requirejs.config({\n",
       "              paths: {\n",
       "                base: '/static/base',\n",
       "              },\n",
       "            });\n",
       "          </script>\n",
       "          "
      ],
      "text/plain": [
       "<IPython.core.display.HTML object>"
      ]
     },
     "metadata": {},
     "output_type": "display_data"
    }
   ],
   "source": [
    "# Preserve raw data\n",
    "tfx = table.copy(deep=True)"
   ]
  },
  {
   "cell_type": "code",
   "execution_count": 7,
   "metadata": {
    "collapsed": false
   },
   "outputs": [
    {
     "data": {
      "text/html": [
       "\n",
       "          <script src=\"/static/components/requirejs/require.js\"></script>\n",
       "          <script>\n",
       "            requirejs.config({\n",
       "              paths: {\n",
       "                base: '/static/base',\n",
       "              },\n",
       "            });\n",
       "          </script>\n",
       "          "
      ],
      "text/plain": [
       "<IPython.core.display.HTML object>"
      ]
     },
     "metadata": {},
     "output_type": "display_data"
    },
    {
     "data": {
      "image/png": "[encoded data removed]",
      "text/plain": [
       "<matplotlib.figure.Figure at 0x7f8d450310f0>"
      ]
     },
     "metadata": {},
     "output_type": "display_data"
    }
   ],
   "source": [
    "import matplotlib.pyplot as mp\n",
    "%matplotlib inline\n",
    "\n",
    "# Plot raw data\n",
    "def plot_overall(tfx):\n",
    "  mp.figure(figsize=(7, 7))\n",
    "  mp.xlim([-10, max(tfx['Total Score']) + 10])\n",
    "  mp.ylim([-5, max(tfx['Rank']) + 5])\n",
    "  mp.title('Overall Rank vs Total Score')\n",
    "  mp.xlabel('Total Score')\n",
    "  mp.ylabel('Rank')\n",
    "  mp.scatter(tfx['Total Score'], tfx['Rank'])\n",
    "plot_overall(tfx)"
   ]
  },
  {
   "cell_type": "markdown",
   "metadata": {},
   "source": [
    "At first glance, this resulting plot was not expected. A linear, positivly correlated relationship between score and rank was expected. Almost like what is exhibited for ranks between 1 to roughly 350. However, there are two problematic trends in the data:\n",
    "* The outliers at the top of the figure have lower Total Scores, yet seem to be at arbitrarily low ranks (high values, which is unexpected).\n",
    "* There are two data points that seem to be outside the otherwise linear trend in ranks under 350. One outlier is at rank 167 and the other is at 200.\n",
    "\n",
    "The stratification of ranks and scores at the top of the figure is due to athletes not completing and entering scores for all the events. When assessing the overall Ranks for athletes, FloElite must first assess rankings based on scores from athletes that completed all events. Refer to the Completion Rule outlined above. This is the main part of the plot for ranks between 1 and ~350. Next, FloElite must assess rankings based on scores from athletes that completed all but one event, then ranked athletes that completed all but two events and so on. In the plot, you can see roughly the stratification of at the top of the figure exhibits five linear trends. Therefore, the unexpected trend at the top of the plot can be explained.\n",
    "\n",
    "The other two outliers within rank 1 to ~350 are problematic and no explanation readily presents itself. The overall Rank is determined by Total Score and the Total Score is a function of the individual event rankings. Thus, analysis in the individual event score and rank relationships is next."
   ]
  },
  {
   "cell_type": "code",
   "execution_count": 8,
   "metadata": {
    "collapsed": false
   },
   "outputs": [
    {
     "data": {
      "text/html": [
       "\n",
       "          <script src=\"/static/components/requirejs/require.js\"></script>\n",
       "          <script>\n",
       "            requirejs.config({\n",
       "              paths: {\n",
       "                base: '/static/base',\n",
       "              },\n",
       "            });\n",
       "          </script>\n",
       "          "
      ],
      "text/plain": [
       "<IPython.core.display.HTML object>"
      ]
     },
     "metadata": {},
     "output_type": "display_data"
    },
    {
     "data": {
      "image/png": "[encoded data removed]",
      "text/plain": [
       "<matplotlib.figure.Figure at 0x7f8d45031630>"
      ]
     },
     "metadata": {},
     "output_type": "display_data"
    }
   ],
   "source": [
    "# Plot the rank-score for each event\n",
    "def plot_events(tfx):\n",
    "  f = mp.figure(figsize=(10, 10))\n",
    "  ax = f.add_subplot(111)\n",
    "  ax.set_xlabel('Score')\n",
    "  ax.set_ylabel('Rank')\n",
    "  ax.set_axis_bgcolor('white')\n",
    "  ax.spines['top'].set_color('none')\n",
    "  ax.spines['bottom'].set_color('none')\n",
    "  ax.spines['left'].set_color('none')\n",
    "  ax.spines['right'].set_color('none')\n",
    "  ax.tick_params(labelcolor='w', top='off', bottom='off', left='off', right='off')\n",
    "  for e in range(1, 7):\n",
    "      col_rank = 'Q'+str(e)+'R'\n",
    "      col_scor = 'Q'+str(e)+'S'\n",
    "      col_v = 'Q'+str(e)+'RV'\n",
    "      axs = f.add_subplot(2, 3, e)\n",
    "      axs.scatter(tfx[col_scor], tfx[col_rank])\n",
    "      axs.set_xlim([-5, max(tfx[col_scor])+5])\n",
    "      axs.set_ylim([-5, max(tfx[col_rank])+5])\n",
    "      axs.set_title('Event '+str(e))\n",
    "plot_events(tfx)"
   ]
  },
  {
   "cell_type": "markdown",
   "metadata": {},
   "source": [
    "Each event has an expected overall trend. Each event is an AMRAP style or max lift workout. So a high score gives a high rank (low numerical value), and each figure has a negative correlation. Some events exhibit tails at the top and bottom of the pack, which showcases how strong/weak certain individuals are in each event, respectively. You can even see the weight groupings in Event 3 as people maxed out on weights at 200 lbs, 215 lbs, 225 lbs, etc.\n",
    "\n",
    "However, at first glance, Event 1 showed two clear outliers. Both data points had lower scores, but higher ranks than comparable athletes in the plot. The two problem ranks are 124 and 239. Looking at the first outlier on the FloElite leaderboard reveals an irregularity:\n",
    "\n",
    "![](andrew_monrial.png \"\")\n",
    "\n",
    "So, for Event 1, Andrew Monrial has a score of 259 and is ranked 124th. The plot shows other athletes with a score of 259 received a much lower rank, and so does the FloElite leaderboard, which is the source of the data:\n",
    "\n",
    "![](eric_tejada.png \"\")\n",
    "\n",
    "Eric Tejada entered the same exact score as Andrew Monrial for Event 1, but received a much lower (higher numerical value) rank for the event. What happened here? Double checking the other obvious outlier lead to the same issue: *There are unexplainable irregularities in the individual event and overall rankings...*"
   ]
  },
  {
   "cell_type": "markdown",
   "metadata": {},
   "source": [
    "## New Question\n",
    "I set out with a question about sizing up my competition, but now I am concerned with the validity of the FloElite results. The two outliers identified above were obvious, but are there other issues with the data that the plots are not able to demonstrate? Thus, I set out with a new question: \n",
    "\n",
    "\"Did all the qualifing athletes correctly recieve a qualifying spot?\"\n",
    "\n",
    "The TFX Online Qualifier competition allows everyone the chance to compete for a spot at the TFX competition in January. Spots are limited, so the qualifier provides a means for selecting the athletes. If the rankings of these athletes does not meet the rules and expectations of the competition, then were certain athletes missed and did not receive invitations?"
   ]
  },
  {
   "cell_type": "markdown",
   "metadata": {},
   "source": [
    "## Re-ranking the Results\n",
    "To verify the results, the following analysis \n",
    "* Recomputes the rankings of the individual events\n",
    "* Recomputes the athletes' Total Score\n",
    "* Re-ranks the overall competition rankings\n",
    "\n",
    "The scores athlete's entered for the individual events never change and still come directly from the scraping of the FloElite leaderboard. The assumption here is that all scores are entered into the FloElite website correctly, and blank scores can be correctly represented with zeroes.\n",
    "\n",
    "First, re-rank the individual events:"
   ]
  },
  {
   "cell_type": "code",
   "execution_count": 9,
   "metadata": {
    "collapsed": false
   },
   "outputs": [
    {
     "data": {
      "text/html": [
       "\n",
       "          <script src=\"/static/components/requirejs/require.js\"></script>\n",
       "          <script>\n",
       "            requirejs.config({\n",
       "              paths: {\n",
       "                base: '/static/base',\n",
       "              },\n",
       "            });\n",
       "          </script>\n",
       "          "
      ],
      "text/plain": [
       "<IPython.core.display.HTML object>"
      ]
     },
     "metadata": {},
     "output_type": "display_data"
    },
    {
     "data": {
      "image/png": "[encoded data removed]",
      "text/plain": [
       "<matplotlib.figure.Figure at 0x7f8d452f1d30>"
      ]
     },
     "metadata": {},
     "output_type": "display_data"
    }
   ],
   "source": [
    "# Preserve Original\n",
    "tfx_u = tfx.copy(deep=True)\n",
    "\n",
    "# Re-Rank each Event\n",
    "def rerank_events(tfx_u):\n",
    "  for e in range(1, 7):\n",
    "      col_rank = 'Q'+str(e)+'R'\n",
    "      col_scor = 'Q'+str(e)+'S'\n",
    "      tfx_u.sort_values(col_scor, ascending=False, inplace=True) # Max score is highest rank for each event\n",
    "      tfx_u.reset_index(inplace=True)\n",
    "      tfx_u.loc[:, col_rank] = tfx_u[col_scor].rank(ascending=False, method='min')\n",
    "      tfx_u.set_index('Athlete', inplace=True)\n",
    "  return tfx_u\n",
    "tfx_u = rerank_events(tfx_u)\n",
    "plot_events(tfx_u)"
   ]
  },
  {
   "cell_type": "markdown",
   "metadata": {},
   "source": [
    "With the new re-ranking, the trends in each event are comparable to the original, but the two outliers in Event 1 are no longer there. In fact, Andrew Monrial's rank now for Event 1 is shared with Eric Tejada as expected."
   ]
  },
  {
   "cell_type": "code",
   "execution_count": 10,
   "metadata": {
    "collapsed": false
   },
   "outputs": [
    {
     "data": {
      "text/html": [
       "\n",
       "          <script src=\"/static/components/requirejs/require.js\"></script>\n",
       "          <script>\n",
       "            requirejs.config({\n",
       "              paths: {\n",
       "                base: '/static/base',\n",
       "              },\n",
       "            });\n",
       "          </script>\n",
       "          "
      ],
      "text/plain": [
       "<IPython.core.display.HTML object>"
      ]
     },
     "metadata": {},
     "output_type": "display_data"
    },
    {
     "data": {
      "text/plain": [
       "247.0"
      ]
     },
     "execution_count": 10,
     "metadata": {},
     "output_type": "execute_result"
    }
   ],
   "source": [
    "tfx_u.loc[\"Andrew Monrial\"][\"Q1R\"]"
   ]
  },
  {
   "cell_type": "markdown",
   "metadata": {},
   "source": [
    "Next, re-ranking the overall results, but the Total Score must be recomputed first. In order to take into account the Completion Rule, anyone with a zero score for any of the events receives the highest total score plus one. Thus, when the athletes are re-ranked based on their score, they will receive last place overall. This is a simplifying assumption for this analysis, and is unlike what FloElite did in the assessment of overall Ranks in the leaderboard."
   ]
  },
  {
   "cell_type": "code",
   "execution_count": 11,
   "metadata": {
    "collapsed": false
   },
   "outputs": [
    {
     "data": {
      "text/html": [
       "\n",
       "          <script src=\"/static/components/requirejs/require.js\"></script>\n",
       "          <script>\n",
       "            requirejs.config({\n",
       "              paths: {\n",
       "                base: '/static/base',\n",
       "              },\n",
       "            });\n",
       "          </script>\n",
       "          "
      ],
      "text/plain": [
       "<IPython.core.display.HTML object>"
      ]
     },
     "metadata": {},
     "output_type": "display_data"
    },
    {
     "data": {
      "text/html": [
       "<div>\n",
       "<table border=\"1\" class=\"dataframe\">\n",
       "  <thead>\n",
       "    <tr style=\"text-align: right;\">\n",
       "      <th></th>\n",
       "      <th>Rank</th>\n",
       "      <th>Q1R</th>\n",
       "      <th>Q1S</th>\n",
       "      <th>Q2R</th>\n",
       "      <th>Q2S</th>\n",
       "      <th>Q3R</th>\n",
       "      <th>Q3S</th>\n",
       "      <th>Q4R</th>\n",
       "      <th>Q4S</th>\n",
       "      <th>Q5R</th>\n",
       "      <th>Q5S</th>\n",
       "      <th>Q6R</th>\n",
       "      <th>Q6S</th>\n",
       "      <th>Total Score</th>\n",
       "      <th>Gym</th>\n",
       "    </tr>\n",
       "    <tr>\n",
       "      <th>Athlete</th>\n",
       "      <th></th>\n",
       "      <th></th>\n",
       "      <th></th>\n",
       "      <th></th>\n",
       "      <th></th>\n",
       "      <th></th>\n",
       "      <th></th>\n",
       "      <th></th>\n",
       "      <th></th>\n",
       "      <th></th>\n",
       "      <th></th>\n",
       "      <th></th>\n",
       "      <th></th>\n",
       "      <th></th>\n",
       "      <th></th>\n",
       "    </tr>\n",
       "  </thead>\n",
       "  <tbody>\n",
       "    <tr>\n",
       "      <th>Jonathan Vanover</th>\n",
       "      <td>1.0</td>\n",
       "      <td>4.0</td>\n",
       "      <td>330.0</td>\n",
       "      <td>24.0</td>\n",
       "      <td>331.0</td>\n",
       "      <td>7.0</td>\n",
       "      <td>291.0</td>\n",
       "      <td>113.0</td>\n",
       "      <td>334.0</td>\n",
       "      <td>5.0</td>\n",
       "      <td>268.0</td>\n",
       "      <td>30.0</td>\n",
       "      <td>64.0</td>\n",
       "      <td>183.0</td>\n",
       "      <td>House of Power</td>\n",
       "    </tr>\n",
       "    <tr>\n",
       "      <th>Zentez Eleby</th>\n",
       "      <td>2.0</td>\n",
       "      <td>72.0</td>\n",
       "      <td>290.0</td>\n",
       "      <td>33.0</td>\n",
       "      <td>327.0</td>\n",
       "      <td>27.0</td>\n",
       "      <td>265.0</td>\n",
       "      <td>52.0</td>\n",
       "      <td>369.0</td>\n",
       "      <td>12.0</td>\n",
       "      <td>245.0</td>\n",
       "      <td>1.0</td>\n",
       "      <td>77.0</td>\n",
       "      <td>197.0</td>\n",
       "      <td>Sherman powerfit</td>\n",
       "    </tr>\n",
       "    <tr>\n",
       "      <th>Jean Banos</th>\n",
       "      <td>3.0</td>\n",
       "      <td>1.0</td>\n",
       "      <td>344.0</td>\n",
       "      <td>41.0</td>\n",
       "      <td>325.0</td>\n",
       "      <td>16.0</td>\n",
       "      <td>275.0</td>\n",
       "      <td>123.0</td>\n",
       "      <td>324.0</td>\n",
       "      <td>19.0</td>\n",
       "      <td>242.0</td>\n",
       "      <td>8.0</td>\n",
       "      <td>70.0</td>\n",
       "      <td>208.0</td>\n",
       "      <td>Warhouse Strength &amp; Conditioning</td>\n",
       "    </tr>\n",
       "    <tr>\n",
       "      <th>Scott Church</th>\n",
       "      <td>4.0</td>\n",
       "      <td>4.0</td>\n",
       "      <td>330.0</td>\n",
       "      <td>5.0</td>\n",
       "      <td>356.0</td>\n",
       "      <td>27.0</td>\n",
       "      <td>265.0</td>\n",
       "      <td>72.0</td>\n",
       "      <td>363.0</td>\n",
       "      <td>36.0</td>\n",
       "      <td>235.0</td>\n",
       "      <td>68.0</td>\n",
       "      <td>62.0</td>\n",
       "      <td>212.0</td>\n",
       "      <td>Garage Gym</td>\n",
       "    </tr>\n",
       "    <tr>\n",
       "      <th>Brandon Head</th>\n",
       "      <td>5.0</td>\n",
       "      <td>17.0</td>\n",
       "      <td>318.0</td>\n",
       "      <td>27.0</td>\n",
       "      <td>329.0</td>\n",
       "      <td>27.0</td>\n",
       "      <td>265.0</td>\n",
       "      <td>133.0</td>\n",
       "      <td>323.0</td>\n",
       "      <td>22.0</td>\n",
       "      <td>240.0</td>\n",
       "      <td>1.0</td>\n",
       "      <td>77.0</td>\n",
       "      <td>227.0</td>\n",
       "      <td>Grapevine CrossFit</td>\n",
       "    </tr>\n",
       "  </tbody>\n",
       "</table>\n",
       "</div>"
      ],
      "text/plain": [
       "                  Rank   Q1R    Q1S   Q2R    Q2S   Q3R    Q3S    Q4R    Q4S  \\\n",
       "Athlete                                                                       \n",
       "Jonathan Vanover   1.0   4.0  330.0  24.0  331.0   7.0  291.0  113.0  334.0   \n",
       "Zentez Eleby       2.0  72.0  290.0  33.0  327.0  27.0  265.0   52.0  369.0   \n",
       "Jean Banos         3.0   1.0  344.0  41.0  325.0  16.0  275.0  123.0  324.0   \n",
       "Scott Church       4.0   4.0  330.0   5.0  356.0  27.0  265.0   72.0  363.0   \n",
       "Brandon Head       5.0  17.0  318.0  27.0  329.0  27.0  265.0  133.0  323.0   \n",
       "\n",
       "                   Q5R    Q5S   Q6R   Q6S  Total Score  \\\n",
       "Athlete                                                  \n",
       "Jonathan Vanover   5.0  268.0  30.0  64.0        183.0   \n",
       "Zentez Eleby      12.0  245.0   1.0  77.0        197.0   \n",
       "Jean Banos        19.0  242.0   8.0  70.0        208.0   \n",
       "Scott Church      36.0  235.0  68.0  62.0        212.0   \n",
       "Brandon Head      22.0  240.0   1.0  77.0        227.0   \n",
       "\n",
       "                                               Gym  \n",
       "Athlete                                             \n",
       "Jonathan Vanover                    House of Power  \n",
       "Zentez Eleby                      Sherman powerfit  \n",
       "Jean Banos        Warhouse Strength & Conditioning  \n",
       "Scott Church                            Garage Gym  \n",
       "Brandon Head                    Grapevine CrossFit  "
      ]
     },
     "execution_count": 11,
     "metadata": {},
     "output_type": "execute_result"
    },
    {
     "data": {
      "image/png": "[encoded data removed]",
      "text/plain": [
       "<matplotlib.figure.Figure at 0x7f8d451c8f60>"
      ]
     },
     "metadata": {},
     "output_type": "display_data"
    }
   ],
   "source": [
    "rank_cols = ['Q1R', 'Q2R', 'Q3R', 'Q4R', 'Q5R', 'Q6R']\n",
    "scor_cols = ['Q1S', 'Q2S', 'Q3S', 'Q4S', 'Q5S', 'Q6S']\n",
    "verf_cols = ['Q1RV', 'Q2RV', 'Q3RV', 'Q4RV', 'Q5RV', 'Q6RV']\n",
    "\n",
    "# Re-rank Overall\n",
    "def rerank_overall(tfx_u, apply_rules=True):\n",
    "  tfx_u.loc[:, \"Total Score\"] = tfx_u[rank_cols].sum(axis=1) # Recalculates total score based on new ranking\n",
    "  # If anyone has a zero score, for any event, give them last place overall\n",
    "  if apply_rules:\n",
    "      max_ts = max(tfx_u[\"Total Score\"])\n",
    "      #print(max_ts)\n",
    "      tfx_u.loc[:, \"Total Score\"] = tfx_u.apply(lambda r: max_ts+1 if (r == 0).any() else r[\"Total Score\"], axis=1)\n",
    "  tfx_u.sort_values(\"Total Score\", inplace=True) # Min score is highest rank\n",
    "  #tfx_u.reset_index(inplace=True)\n",
    "  tfx_u.loc[:, 'Rank'] = tfx_u['Total Score'].rank(method='min')\n",
    "  #tfx_u.set_index('Athlete', inplace=True)\n",
    "  tfx_u.sort_values(\"Rank\", inplace=True)\n",
    "  return tfx_u\n",
    "tfx_u = rerank_overall(tfx_u)\n",
    "plot_overall(tfx_u)\n",
    "tfx_u.head()"
   ]
  },
  {
   "cell_type": "markdown",
   "metadata": {},
   "source": [
    "Re-ranking the data provides a linear, positive correlation on Total Score to overall Rank, which was initially expect in the data directly scraped from the FloElite leaderboard. In this analysis, the stratification seen in the original set of data is collapsed to a single point, which is last place. There is no rank discrimination for athletes that completed a subset of the individual events.\n",
    "\n",
    "The data generated from this analysis now follows the rules and expectations outlined for the TFX competition. A direct comparison of the original data scraped from the FloElite website with the data generated by this analysis shows the results are not the same."
   ]
  },
  {
   "cell_type": "code",
   "execution_count": 12,
   "metadata": {
    "collapsed": false
   },
   "outputs": [
    {
     "data": {
      "text/html": [
       "\n",
       "          <script src=\"/static/components/requirejs/require.js\"></script>\n",
       "          <script>\n",
       "            requirejs.config({\n",
       "              paths: {\n",
       "                base: '/static/base',\n",
       "              },\n",
       "            });\n",
       "          </script>\n",
       "          "
      ],
      "text/plain": [
       "<IPython.core.display.HTML object>"
      ]
     },
     "metadata": {},
     "output_type": "display_data"
    },
    {
     "name": "stdout",
     "output_type": "stream",
     "text": [
      "Are all the ranks and scores the same? False\n"
     ]
    }
   ],
   "source": [
    "print(\"Are all the ranks and scores the same? {}\".format(tfx.equals(tfx_u)))"
   ]
  },
  {
   "cell_type": "markdown",
   "metadata": {},
   "source": [
    "Next, is to make a series of comparisons to answer the question of whether the qualifing athletes correctly received a qualifying spot."
   ]
  },
  {
   "cell_type": "markdown",
   "metadata": {},
   "source": [
    "## Verification\n",
    "A comparison of the results are not the same, but does it matter? Did all qualifying athletes correctly receive a qualifying spot? Maybe a handful of ranks or scores are different, yet the differences are relative and the athletes that should have qualified still did qualify. "
   ]
  },
  {
   "cell_type": "code",
   "execution_count": 13,
   "metadata": {
    "collapsed": false
   },
   "outputs": [
    {
     "data": {
      "text/html": [
       "\n",
       "          <script src=\"/static/components/requirejs/require.js\"></script>\n",
       "          <script>\n",
       "            requirejs.config({\n",
       "              paths: {\n",
       "                base: '/static/base',\n",
       "              },\n",
       "            });\n",
       "          </script>\n",
       "          "
      ],
      "text/plain": [
       "<IPython.core.display.HTML object>"
      ]
     },
     "metadata": {},
     "output_type": "display_data"
    },
    {
     "name": "stdout",
     "output_type": "stream",
     "text": [
      "Did all qualifying athletes correctly receive a qualifying spot? True\n",
      "\n"
     ]
    }
   ],
   "source": [
    "def verify_ranks(tfx, tfx_u, division):\n",
    "  # Order the two frames athletes to be the exact same\n",
    "  tfx_u = tfx_u.reindex(tfx.index)\n",
    "\n",
    "  # Validate Ranks\n",
    "  tfx_u.reset_index(inplace=True)\n",
    "  tfx.reset_index(inplace=True)\n",
    "  for e in range(1, 7):\n",
    "      col_rank = 'Q'+str(e)+'R'\n",
    "      col_new = 'Q'+str(e)+'RV'\n",
    "      tfx[col_new] = np.where(tfx_u[col_rank] == tfx[col_rank], True, False)\n",
    "  tfx['RankV'] = np.where(tfx_u['Rank'] == tfx['Rank'], True, False)\n",
    "  tfx_u.set_index('Athlete', inplace=True)\n",
    "  tfx.set_index('Athlete', inplace=True)\n",
    "  #print(tfx.head())\n",
    "\n",
    "  # Qualifying Athletes\n",
    "  tfx.sort_values(\"Rank\", inplace=True)\n",
    "  tfx_u.sort_values(\"Rank\", inplace=True)\n",
    "  tfx.reset_index(inplace=True)\n",
    "  tfx_u.reset_index(inplace=True)\n",
    "  tfx_q = tfx.iloc[:dmap[division][\"n_qualified\"]].copy(deep=True)\n",
    "  tfx_uq = tfx_u.iloc[:dmap[division][\"n_qualified\"]].copy(deep=True)\n",
    "  tfx_uq.set_index('Athlete', inplace=True)\n",
    "  tfx_q.set_index('Athlete', inplace=True)\n",
    "  tfx_u.set_index('Athlete', inplace=True)\n",
    "  tfx.set_index('Athlete', inplace=True)\n",
    "  #print(tfx_q[['Total Score', 'Rank', 'RankV']])\n",
    "  #print(tfx_uq[['Total Score', 'Rank']])\n",
    "  tfx_uq.sort_index(inplace=True)\n",
    "  tfx_q.sort_index(inplace=True)\n",
    "  #print(tfx_q.index)\n",
    "  #print(tfx_uq.index)\n",
    "  deserving = np.all(tfx_q.index == tfx_uq.index)\n",
    "  print(\"Did all qualifying athletes correctly receive a qualifying spot? {}\\n\"\\\n",
    "          .format(deserving))\n",
    "  ath_q_des = [i for i in tfx_uq.index if i not in tfx_q.index]\n",
    "  ath_q_undes = [i for i in tfx_q.index if i not in tfx_uq.index]\n",
    "  if not deserving:\n",
    "      print(\"Athletes ranked outside the qualifier cut-off, but actually qualified:\")\n",
    "      print(ath_q_des)\n",
    "      print('')\n",
    "      print(\"Athletes ranked within the qualifier cut-off, but didn't actually qualified:\")\n",
    "      print(ath_q_undes)\n",
    "      print('')\n",
    "  return tfx, tfx_u, tfx_q, tfx_uq\n",
    "tfx, tfx_u, tfx_q, tfx_uq = verify_ranks(tfx, tfx_u, \"ISM\")"
   ]
  },
  {
   "cell_type": "markdown",
   "metadata": {},
   "source": [
    "For the Intermediate/Scaled Men's division, all the athletes who were suppose to qualify did qualify, despite the inconsistencies seen in the rankings. Next, were any of the qualifiying athletes ranks computed differently in this analysis as compared to the results from the FloElite leaderboard?"
   ]
  },
  {
   "cell_type": "code",
   "execution_count": 14,
   "metadata": {
    "collapsed": false
   },
   "outputs": [
    {
     "data": {
      "text/html": [
       "\n",
       "          <script src=\"/static/components/requirejs/require.js\"></script>\n",
       "          <script>\n",
       "            requirejs.config({\n",
       "              paths: {\n",
       "                base: '/static/base',\n",
       "              },\n",
       "            });\n",
       "          </script>\n",
       "          "
      ],
      "text/plain": [
       "<IPython.core.display.HTML object>"
      ]
     },
     "metadata": {},
     "output_type": "display_data"
    },
    {
     "name": "stdout",
     "output_type": "stream",
     "text": [
      "Qualifying athletes with rank discrepancies:\n",
      "Athlete                  FloElite Rank  Recomputed Rank\n",
      "Tyler Mudd               46             47             \n",
      "Bruce Moore              73             72             \n",
      "Derrick Grant            73             72             \n",
      "John McMahon             110            111            \n",
      "Jake Floyd               112            111            \n"
     ]
    }
   ],
   "source": [
    "def correct_ranks(tfx, tfx_u, tfx_q, tfx_uq):\n",
    "  # Determine Correct Ranks for all\n",
    "  tfx_u = tfx_u.reindex(tfx.index)\n",
    "  tfx_v = tfx_u[tfx['RankV'] == False].copy(deep=True)\n",
    "  tfx_ve = []\n",
    "  for e in range(1, 7):\n",
    "      col_v = 'Q'+str(e)+'RV'\n",
    "      tfx_ve.append(tfx_u[tfx[col_v] == False])\n",
    "\n",
    "  # Determine Correct Ranks for qualifying athletes\n",
    "  #print(tfx_uq)\n",
    "  ath_qm = tfx_uq.merge(tfx_q, how='outer', left_index=True, right_index=True).index\n",
    "  #print(ath_qm)\n",
    "  tfx_vq = tfx_u.loc[ath_qm].copy(deep=True)\n",
    "  tfx_wq = tfx.loc[ath_qm].copy(deep=True)\n",
    "  tfx_vq = tfx_vq[tfx_wq['RankV'] == False]\n",
    "  tfx_wq = tfx_wq[tfx_wq['RankV'] == False]\n",
    "  tfx_wq.sort_values('Rank', inplace=True)\n",
    "\n",
    "  #print(tfx_vq.loc['Adam Vinson'])\n",
    "  #print(tfx_wq.loc['Adam Vinson'])\n",
    "  # Print athletes with incorrect ranks\n",
    "  print(\"Qualifying athletes with rank discrepancies:\")\n",
    "  print(\"{:<25}{:<15}{:15}\".format(\"Athlete\", \"FloElite Rank\", \"Recomputed Rank\"))\n",
    "  for a, cols in tfx_wq.iterrows():\n",
    "      print(\"{:<25}{:<15}{:<15}\".format(a, int(cols['Rank']), int(tfx_vq.loc[a]['Rank'])))\n",
    "  return tfx, tfx_u, tfx_q, tfx_uq, tfx_v, tfx_ve, tfx_vq, tfx_wq\n",
    "tfx, tfx_u, tfx_q, tfx_uq, tfx_v, tfx_ve, tfx_vq, tfx_wq = correct_ranks(tfx, tfx_u, tfx_q, tfx_uq)"
   ]
  },
  {
   "cell_type": "markdown",
   "metadata": {},
   "source": [
    "It looks like a handful of ranks are different in this analysis, but only by about one place. This is likely due to the outliers exhibited in Event 1. In addition, the cutoff between the Intermediate and Scaled divisions is at 85th place. There is no rank displacement around this cut-off either, which is good. It means that the athletes that qualify for the Intermediate division correctly received a spot for that division and similarly with the Scaled division. \n",
    "\n",
    "To visually see how many of the other ranks are different compared to the original FloElite data, the original rank-score relationship is plotted, but if the original rank does not match the rank computed by this analysis it is colored red."
   ]
  },
  {
   "cell_type": "code",
   "execution_count": 15,
   "metadata": {
    "collapsed": false
   },
   "outputs": [
    {
     "data": {
      "text/html": [
       "\n",
       "          <script src=\"/static/components/requirejs/require.js\"></script>\n",
       "          <script>\n",
       "            requirejs.config({\n",
       "              paths: {\n",
       "                base: '/static/base',\n",
       "              },\n",
       "            });\n",
       "          </script>\n",
       "          "
      ],
      "text/plain": [
       "<IPython.core.display.HTML object>"
      ]
     },
     "metadata": {},
     "output_type": "display_data"
    },
    {
     "data": {
      "image/png": "[encoded data removed]",
      "text/plain": [
       "<matplotlib.figure.Figure at 0x7f8d44c2c0f0>"
      ]
     },
     "metadata": {},
     "output_type": "display_data"
    },
    {
     "data": {
      "image/png": "[encoded data removed]",
      "text/plain": [
       "<matplotlib.figure.Figure at 0x7f8d44c514e0>"
      ]
     },
     "metadata": {},
     "output_type": "display_data"
    }
   ],
   "source": [
    "def plot_rank_verification(tfx, tfx_v, tfx_ve):\n",
    "  # Plot Rank Validation\n",
    "  cmap = {True: 'b', False: 'r'}\n",
    "  f = mp.figure(figsize=(10, 10))\n",
    "  ax = f.add_subplot(111)\n",
    "  ax.set_xlabel('Score')\n",
    "  ax.set_ylabel('Rank')\n",
    "  ax.set_axis_bgcolor('white')\n",
    "  ax.spines['top'].set_color('none')\n",
    "  ax.spines['bottom'].set_color('none')\n",
    "  ax.spines['left'].set_color('none')\n",
    "  ax.spines['right'].set_color('none')\n",
    "  ax.tick_params(labelcolor='w', top='off', bottom='off', left='off', right='off')\n",
    "  for e in range(1, 7):\n",
    "      col_rank = 'Q'+str(e)+'R'\n",
    "      col_scor = 'Q'+str(e)+'S'\n",
    "      col_v = 'Q'+str(e)+'RV'\n",
    "      axs = f.add_subplot(2, 3, e)\n",
    "      axs.scatter(tfx[col_scor], tfx[col_rank], marker='o', color=tfx[col_v].apply(lambda x: cmap[x]))#, facecolors='none')\n",
    "      #axs.scatter(tfx_ve[e-1][col_scor], tfx_ve[e-1][col_rank], marker='x', color='g')\n",
    "      axs.set_xlim([0, max(tfx[col_scor])+5])\n",
    "      axs.set_ylim([-5, max(tfx[col_rank])+5])\n",
    "      axs.set_title('Event '+str(e))\n",
    "  mp.figure(figsize=(10, 10))\n",
    "  mp.scatter(tfx['Total Score'], tfx['Rank'], marker='o', color=tfx['RankV'].apply(lambda x: cmap[x]))#, facecolors='none')\n",
    "  #mp.scatter(tfx_v['Total Score'], tfx_v['Rank'], marker='x', color='g') # Mark\n",
    "  mp.title('TFX 2018 Overall Rank Validation')\n",
    "  mp.xlabel('Total Score')\n",
    "  mp.ylabel('Rank')\n",
    "  mp.xlim([-5, max(tfx['Total Score']) + 5])\n",
    "  mp.ylim([-5, max(tfx['Rank']) + 5])\n",
    "plot_rank_verification(tfx, tfx_v, tfx_ve)"
   ]
  },
  {
   "cell_type": "markdown",
   "metadata": {},
   "source": [
    "Again, based on this analysis' re-ranking, the ranks of athletes are marked red if they do not match with the original data directly from the FloElite leaderboard. It appears that the way the ranks were assessed by FloElite, in Event 1, essentially lead to most of the issues with the overall rankings. Keep in mind, if one athlete's rank is off it has the potential to mess up all following ranks. "
   ]
  },
  {
   "cell_type": "markdown",
   "metadata": {},
   "source": [
    "### Conclusion for Intermediate/Scaled Men's Division\n",
    "For the Intermediate/Scaled Men's division, many many athletes ranks are different, albeit a majority are only by one place. In addition, the athletes that did well enough to qualify did earn qualifying spots in their correct divisions. However, the same questions need to be applied to all the other divisions."
   ]
  },
  {
   "cell_type": "markdown",
   "metadata": {},
   "source": [
    "## Assessing All Divisons\n",
    "Let's quickly assess all of the other divisions with the routines developed for looking at the Intermediate/Scaled Men's division."
   ]
  },
  {
   "cell_type": "code",
   "execution_count": 16,
   "metadata": {
    "collapsed": false
   },
   "outputs": [
    {
     "data": {
      "text/html": [
       "\n",
       "          <script src=\"/static/components/requirejs/require.js\"></script>\n",
       "          <script>\n",
       "            requirejs.config({\n",
       "              paths: {\n",
       "                base: '/static/base',\n",
       "              },\n",
       "            });\n",
       "          </script>\n",
       "          "
      ],
      "text/plain": [
       "<IPython.core.display.HTML object>"
      ]
     },
     "metadata": {},
     "output_type": "display_data"
    }
   ],
   "source": [
    "# Create single function for verifying a divisions results.\n",
    "def verify(division, plot_results=True, apply_rules=True):\n",
    "  table = clean_raw(extract(division))\n",
    "  tfx = table.copy(deep=True)\n",
    "  tfx_u = tfx.copy(deep=True)\n",
    "  tfx_u = rerank_events(tfx_u)\n",
    "  tfx_u = rerank_overall(tfx_u, apply_rules)\n",
    "  print(\"Are all the ranks and scores correct? {}\\n\".format(tfx.equals(tfx_u)))\n",
    "  tfx, tfx_u, tfx_q, tfx_uq = verify_ranks(tfx, tfx_u, division)\n",
    "  tfx, tfx_u, tfx_q, tfx_uq, tfx_v, tfx_ve, tfx_vq, tfx_wq = correct_ranks(tfx, tfx_u, tfx_q, tfx_uq)\n",
    "  if plot_results:\n",
    "    plot_rank_verification(tfx, tfx_v, tfx_ve) \n",
    "  return tfx, tfx_u"
   ]
  },
  {
   "cell_type": "markdown",
   "metadata": {},
   "source": [
    "### Pro/Amateur Men Division\n",
    "The Pro/Amateur divisions are competing for money, not only in the qualifier, but also for at TFX in January. Not qualifying could mean missing out in a opportunity for thousands of dollars. The implication being that it is critical to ensure the qualifying athletes correctly earned an invitation. Here, extract the data from the FloElite Pro/Amateur Men's leaderboard and apply the generic routines developed previously."
   ]
  },
  {
   "cell_type": "code",
   "execution_count": 17,
   "metadata": {
    "collapsed": false
   },
   "outputs": [
    {
     "data": {
      "text/html": [
       "\n",
       "          <script src=\"/static/components/requirejs/require.js\"></script>\n",
       "          <script>\n",
       "            requirejs.config({\n",
       "              paths: {\n",
       "                base: '/static/base',\n",
       "              },\n",
       "            });\n",
       "          </script>\n",
       "          "
      ],
      "text/plain": [
       "<IPython.core.display.HTML object>"
      ]
     },
     "metadata": {},
     "output_type": "display_data"
    },
    {
     "name": "stdout",
     "output_type": "stream",
     "text": [
      "Extracting data from the leaderboard...\n",
      "\n",
      "Are all the ranks and scores correct? False\n",
      "\n",
      "Did all qualifying athletes correctly receive a qualifying spot? True\n",
      "\n",
      "Qualifying athletes with rank discrepancies:\n",
      "Athlete                  FloElite Rank  Recomputed Rank\n",
      "Ricardo Cano             71             70             \n",
      "Madison Townley          81             82             \n",
      "Logan Bush               88             87             \n"
     ]
    },
    {
     "data": {
      "image/png": "[encoded data removed]",
      "text/plain": [
       "<matplotlib.figure.Figure at 0x7f8d569234a8>"
      ]
     },
     "metadata": {},
     "output_type": "display_data"
    },
    {
     "data": {
      "image/png": "[encoded data removed]",
      "text/plain": [
       "<matplotlib.figure.Figure at 0x7f8d451a20b8>"
      ]
     },
     "metadata": {},
     "output_type": "display_data"
    }
   ],
   "source": [
    "_ = verify(\"PAM\")"
   ]
  },
  {
   "cell_type": "markdown",
   "metadata": {},
   "source": [
    "Again, the qualifying athletes did correctly qualify for the respective Pro and Amateur divisions (cut-off at 30), but we still see a handful of athletes with different rankings."
   ]
  },
  {
   "cell_type": "markdown",
   "metadata": {},
   "source": [
    "#### Aside: Applying the Completion Rule\n",
    "In all of the analyses, by default, the Completion Rule is applied such that each athlete must complete and enter a score for every individual event to be considered in the overall rankings, otherwise the athlete receives last place overall. The rule makes a lot of sense, but there are some interesting results in the Pro/Amature Men's division if you do not apply this rule. Consider:"
   ]
  },
  {
   "cell_type": "code",
   "execution_count": 18,
   "metadata": {
    "collapsed": false
   },
   "outputs": [
    {
     "data": {
      "text/html": [
       "\n",
       "          <script src=\"/static/components/requirejs/require.js\"></script>\n",
       "          <script>\n",
       "            requirejs.config({\n",
       "              paths: {\n",
       "                base: '/static/base',\n",
       "              },\n",
       "            });\n",
       "          </script>\n",
       "          "
      ],
      "text/plain": [
       "<IPython.core.display.HTML object>"
      ]
     },
     "metadata": {},
     "output_type": "display_data"
    },
    {
     "name": "stdout",
     "output_type": "stream",
     "text": [
      "Extracting data from the leaderboard...\n",
      "\n",
      "Are all the ranks and scores correct? False\n",
      "\n",
      "Did all qualifying athletes correctly receive a qualifying spot? False\n",
      "\n",
      "Athletes ranked outside the qualifier cut-off, but actually qualified:\n",
      "['Adam Vinson', 'Ricky Carrillo']\n",
      "\n",
      "Athletes ranked within the qualifier cut-off, but didn't actually qualified:\n",
      "['Jaime AcuÃ±a', 'Tyler Tomerlin']\n",
      "\n",
      "Qualifying athletes with rank discrepancies:\n",
      "Athlete                  FloElite Rank  Recomputed Rank\n",
      "Ricardo Cano             71             70             \n",
      "Kolton Porter            75             76             \n",
      "Jonathan Duncan          76             77             \n",
      "David Moore              77             79             \n",
      "Evan Coachman            77             79             \n",
      "Robert Hibbard           79             81             \n",
      "Dillon Cartwright        80             82             \n",
      "Bryce Carlson            81             83             \n",
      "Madison Townley          81             84             \n",
      "Aaron Williams           83             85             \n",
      "Jordan Henderson         84             86             \n",
      "Corey McDonnough         85             87             \n",
      "Kyle Shipp               86             88             \n",
      "Jesse Hicks              87             89             \n",
      "Logan Bush               88             89             \n",
      "Jaime AcuÃ±a             89             91             \n",
      "Tyler Tomerlin           90             92             \n",
      "Ricky Carrillo           208            77             \n",
      "Adam Vinson              219            75             \n"
     ]
    },
    {
     "data": {
      "image/png": "[encoded data removed]",
      "text/plain": [
       "<matplotlib.figure.Figure at 0x7f8d44e01d68>"
      ]
     },
     "metadata": {},
     "output_type": "display_data"
    },
    {
     "data": {
      "image/png": "[encoded data removed]",
      "text/plain": [
       "<matplotlib.figure.Figure at 0x7f8d450c76d8>"
      ]
     },
     "metadata": {},
     "output_type": "display_data"
    }
   ],
   "source": [
    "tfx_pam, tfx_pam_u = verify(\"PAM\", True, False)"
   ]
  },
  {
   "cell_type": "markdown",
   "metadata": {},
   "source": [
    "Looking at the details from this analysis, there are two athletes, Adam Vinson and Ricky Carrillo, that could have qualified, if they had just entered a last place score in the event's they had missed! Look at Adam's result from the FloElite leaderboard:\n",
    "\n",
    "![](adam_vinson.png \"\")\n",
    "\n",
    "He missed Events 4 and 5. For this analysis, the missing scores are represented by zeros and the athlete receives a last place ranking for those individual events. Adam missed two events, but if he had just done a single rep for each of the last two events and entered a score, he would have placed 75th overall! He did that well in the first four events! Take a look at the data computed by this analysis for Adam:"
   ]
  },
  {
   "cell_type": "code",
   "execution_count": 19,
   "metadata": {
    "collapsed": false
   },
   "outputs": [
    {
     "data": {
      "text/html": [
       "\n",
       "          <script src=\"/static/components/requirejs/require.js\"></script>\n",
       "          <script>\n",
       "            requirejs.config({\n",
       "              paths: {\n",
       "                base: '/static/base',\n",
       "              },\n",
       "            });\n",
       "          </script>\n",
       "          "
      ],
      "text/plain": [
       "<IPython.core.display.HTML object>"
      ]
     },
     "metadata": {},
     "output_type": "display_data"
    },
    {
     "data": {
      "text/plain": [
       "Rank            75\n",
       "Q1R             34\n",
       "Q1S            301\n",
       "Q2R             40\n",
       "Q2S            367\n",
       "Q3R              7\n",
       "Q3S            327\n",
       "Q4R             31\n",
       "Q4S            320\n",
       "Q5R            214\n",
       "Q5S              0\n",
       "Q6R            218\n",
       "Q6S              0\n",
       "Total Score    544\n",
       "Gym            NaN\n",
       "Name: Adam Vinson, dtype: object"
      ]
     },
     "execution_count": 19,
     "metadata": {},
     "output_type": "execute_result"
    }
   ],
   "source": [
    "tfx_pam_u.loc['Adam Vinson'].T"
   ]
  },
  {
   "cell_type": "markdown",
   "metadata": {},
   "source": [
    "Similarly with Ricky, if he had just entered a single rep for Event 5, he could have placed 77th.\n",
    "\n",
    "![](ricky_carrillo.png \"\")\n",
    "\n",
    "This pecularity did not happen in the Intermediate/Scaled Men's divison, and the other divisions were not extensively checked, but these results are very interesting. Furthermore, it begs the question on how to correctly handle the rankings for athletes that enter no scores. Should they essentially be disqualified from the overall rankings as Adam and Ricky have effectively been here? Or should they be given the benefit of the doubt, assigned last place for the individual event and ranked accordingly in the overall ranking?"
   ]
  },
  {
   "cell_type": "markdown",
   "metadata": {},
   "source": [
    "### Pro/Amateur Women's Division\n",
    "Next verifying the Pro/Amateur Women results:"
   ]
  },
  {
   "cell_type": "code",
   "execution_count": 20,
   "metadata": {
    "collapsed": false
   },
   "outputs": [
    {
     "data": {
      "text/html": [
       "\n",
       "          <script src=\"/static/components/requirejs/require.js\"></script>\n",
       "          <script>\n",
       "            requirejs.config({\n",
       "              paths: {\n",
       "                base: '/static/base',\n",
       "              },\n",
       "            });\n",
       "          </script>\n",
       "          "
      ],
      "text/plain": [
       "<IPython.core.display.HTML object>"
      ]
     },
     "metadata": {},
     "output_type": "display_data"
    },
    {
     "name": "stdout",
     "output_type": "stream",
     "text": [
      "Extracting data from the leaderboard...\n",
      "\n",
      "Are all the ranks and scores correct? False\n",
      "\n",
      "Did all qualifying athletes correctly receive a qualifying spot? True\n",
      "\n",
      "Qualifying athletes with rank discrepancies:\n",
      "Athlete                  FloElite Rank  Recomputed Rank\n",
      "Chelsea Potter           19             18             \n",
      "Mary Lou Womack          20             19             \n",
      "Amanda Garces            21             20             \n",
      "Vanessa McCoy            22             21             \n",
      "Taylor Cooley            23             22             \n",
      "Heather Gammel           24             23             \n",
      "Andilauren Garcia        25             24             \n",
      "Julie VanHoy             26             25             \n",
      "Keelee Norris            27             26             \n",
      "Kita Dicks               27             31             \n",
      "Emily Graham             28             27             \n",
      "Anabelle Canchola        29             28             \n",
      "Lydia Novotny            30             29             \n",
      "Heather Shuttlesworth    31             30             \n",
      "Casidy Caldwell          34             33             \n",
      "Jamie West               36             37             \n",
      "Brooklynn Linsky         44             45             \n",
      "Laura Calicutt           45             44             \n",
      "Angelica Duran           67             68             \n"
     ]
    },
    {
     "data": {
      "image/png": "[encoded data removed]",
      "text/plain": [
       "<matplotlib.figure.Figure at 0x7f8d80c8afd0>"
      ]
     },
     "metadata": {},
     "output_type": "display_data"
    },
    {
     "data": {
      "image/png": "[encoded data removed]",
      "text/plain": [
       "<matplotlib.figure.Figure at 0x7f8d44c2e7f0>"
      ]
     },
     "metadata": {},
     "output_type": "display_data"
    }
   ],
   "source": [
    "tfx_paw, tfx_paw_u = verify(\"PAW\")"
   ]
  },
  {
   "cell_type": "markdown",
   "metadata": {},
   "source": [
    "A lot more ranks are different for this women's division compared to the FloElite leaderboard. The men's divisons seemed to have the most issues in Event 1, but many more ranks are computed as different for most of the events in this division. \n",
    "\n",
    "More importantly, the cutoff between Pro and Amateur is at 20th place and Amanda Garces is ranked 21st on the FloElite leaderboard. However, this analysis puts her at 20th place. Thus, this analysis indicates she could have qualified for the Pro division. It has been easy to take this analysis for granted thus far, because all the qualifying athletes correctly received qualifying spots, until now. \n",
    "\n",
    "To determine what happened with respect to Amanda Garces' overall Rank, further assessment into the differences in the individual events is needed. Consider:"
   ]
  },
  {
   "cell_type": "code",
   "execution_count": 21,
   "metadata": {
    "collapsed": false
   },
   "outputs": [
    {
     "data": {
      "text/html": [
       "\n",
       "          <script src=\"/static/components/requirejs/require.js\"></script>\n",
       "          <script>\n",
       "            requirejs.config({\n",
       "              paths: {\n",
       "                base: '/static/base',\n",
       "              },\n",
       "            });\n",
       "          </script>\n",
       "          "
      ],
      "text/plain": [
       "<IPython.core.display.HTML object>"
      ]
     },
     "metadata": {},
     "output_type": "display_data"
    },
    {
     "data": {
      "text/plain": [
       "Q1RV    False\n",
       "Q2RV    False\n",
       "Q3RV    False\n",
       "Q4RV     True\n",
       "Q5RV     True\n",
       "Q6RV     True\n",
       "Name: Amanda Garces, dtype: object"
      ]
     },
     "execution_count": 21,
     "metadata": {},
     "output_type": "execute_result"
    }
   ],
   "source": [
    "tfx_paw.loc[\"Amanda Garces\"][verf_cols]"
   ]
  },
  {
   "cell_type": "markdown",
   "metadata": {},
   "source": [
    "The analysis indicates that her ranks in the first three individual events are different than the FloElite leaderboard, but why? Printing the first 25 ranks for Event 1, and their respective scores from the FloElite data uncovers a subtle issue:"
   ]
  },
  {
   "cell_type": "code",
   "execution_count": 22,
   "metadata": {
    "collapsed": false
   },
   "outputs": [
    {
     "data": {
      "text/html": [
       "\n",
       "          <script src=\"/static/components/requirejs/require.js\"></script>\n",
       "          <script>\n",
       "            requirejs.config({\n",
       "              paths: {\n",
       "                base: '/static/base',\n",
       "              },\n",
       "            });\n",
       "          </script>\n",
       "          "
      ],
      "text/plain": [
       "<IPython.core.display.HTML object>"
      ]
     },
     "metadata": {},
     "output_type": "display_data"
    },
    {
     "data": {
      "text/html": [
       "<div>\n",
       "<table border=\"1\" class=\"dataframe\">\n",
       "  <thead>\n",
       "    <tr style=\"text-align: right;\">\n",
       "      <th></th>\n",
       "      <th>Q1R</th>\n",
       "      <th>Q1S</th>\n",
       "    </tr>\n",
       "    <tr>\n",
       "      <th>Athlete</th>\n",
       "      <th></th>\n",
       "      <th></th>\n",
       "    </tr>\n",
       "  </thead>\n",
       "  <tbody>\n",
       "    <tr>\n",
       "      <th>Lydia Novotny</th>\n",
       "      <td>1.0</td>\n",
       "      <td>366.0</td>\n",
       "    </tr>\n",
       "    <tr>\n",
       "      <th>Marisa De los Santos</th>\n",
       "      <td>2.0</td>\n",
       "      <td>343.0</td>\n",
       "    </tr>\n",
       "    <tr>\n",
       "      <th>Natalie Newhart</th>\n",
       "      <td>3.0</td>\n",
       "      <td>333.0</td>\n",
       "    </tr>\n",
       "    <tr>\n",
       "      <th>Chely Galvan</th>\n",
       "      <td>4.0</td>\n",
       "      <td>323.0</td>\n",
       "    </tr>\n",
       "    <tr>\n",
       "      <th>April Bullock</th>\n",
       "      <td>5.0</td>\n",
       "      <td>311.0</td>\n",
       "    </tr>\n",
       "    <tr>\n",
       "      <th>Brandi Yates</th>\n",
       "      <td>6.0</td>\n",
       "      <td>310.0</td>\n",
       "    </tr>\n",
       "    <tr>\n",
       "      <th>Andee Keefe</th>\n",
       "      <td>7.0</td>\n",
       "      <td>309.0</td>\n",
       "    </tr>\n",
       "    <tr>\n",
       "      <th>Stephany Osorto</th>\n",
       "      <td>8.0</td>\n",
       "      <td>308.0</td>\n",
       "    </tr>\n",
       "    <tr>\n",
       "      <th>Allison Ralfs</th>\n",
       "      <td>9.0</td>\n",
       "      <td>307.0</td>\n",
       "    </tr>\n",
       "    <tr>\n",
       "      <th>Julie VanHoy</th>\n",
       "      <td>9.0</td>\n",
       "      <td>307.0</td>\n",
       "    </tr>\n",
       "    <tr>\n",
       "      <th>Alexis Johnson</th>\n",
       "      <td>11.0</td>\n",
       "      <td>303.0</td>\n",
       "    </tr>\n",
       "    <tr>\n",
       "      <th>Rachel Garibay</th>\n",
       "      <td>12.0</td>\n",
       "      <td>301.0</td>\n",
       "    </tr>\n",
       "    <tr>\n",
       "      <th>Brooke Haas</th>\n",
       "      <td>12.0</td>\n",
       "      <td>301.0</td>\n",
       "    </tr>\n",
       "    <tr>\n",
       "      <th>Amber Carrillo</th>\n",
       "      <td>14.0</td>\n",
       "      <td>297.0</td>\n",
       "    </tr>\n",
       "    <tr>\n",
       "      <th>Leah Irons</th>\n",
       "      <td>14.0</td>\n",
       "      <td>297.0</td>\n",
       "    </tr>\n",
       "    <tr>\n",
       "      <th>Meredith Smith</th>\n",
       "      <td>16.0</td>\n",
       "      <td>291.0</td>\n",
       "    </tr>\n",
       "    <tr>\n",
       "      <th>Marie Custead</th>\n",
       "      <td>17.0</td>\n",
       "      <td>290.0</td>\n",
       "    </tr>\n",
       "    <tr>\n",
       "      <th>Heather Sanchez</th>\n",
       "      <td>18.0</td>\n",
       "      <td>289.0</td>\n",
       "    </tr>\n",
       "    <tr>\n",
       "      <th>Maggie Ingell</th>\n",
       "      <td>19.0</td>\n",
       "      <td>288.0</td>\n",
       "    </tr>\n",
       "    <tr>\n",
       "      <th>Lexi Beeson</th>\n",
       "      <td>20.0</td>\n",
       "      <td>286.0</td>\n",
       "    </tr>\n",
       "    <tr>\n",
       "      <th>Courtney Walker</th>\n",
       "      <td>21.0</td>\n",
       "      <td>285.0</td>\n",
       "    </tr>\n",
       "    <tr>\n",
       "      <th>Heather Gammel</th>\n",
       "      <td>23.0</td>\n",
       "      <td>281.0</td>\n",
       "    </tr>\n",
       "    <tr>\n",
       "      <th>Hollye Henderson</th>\n",
       "      <td>24.0</td>\n",
       "      <td>279.0</td>\n",
       "    </tr>\n",
       "    <tr>\n",
       "      <th>Amanda Garces</th>\n",
       "      <td>25.0</td>\n",
       "      <td>278.0</td>\n",
       "    </tr>\n",
       "  </tbody>\n",
       "</table>\n",
       "</div>"
      ],
      "text/plain": [
       "                       Q1R    Q1S\n",
       "Athlete                          \n",
       "Lydia Novotny          1.0  366.0\n",
       "Marisa De los Santos   2.0  343.0\n",
       "Natalie Newhart        3.0  333.0\n",
       "Chely Galvan           4.0  323.0\n",
       "April Bullock          5.0  311.0\n",
       "Brandi Yates           6.0  310.0\n",
       "Andee Keefe            7.0  309.0\n",
       "Stephany Osorto        8.0  308.0\n",
       "Allison Ralfs          9.0  307.0\n",
       "Julie VanHoy           9.0  307.0\n",
       "Alexis Johnson        11.0  303.0\n",
       "Rachel Garibay        12.0  301.0\n",
       "Brooke Haas           12.0  301.0\n",
       "Amber Carrillo        14.0  297.0\n",
       "Leah Irons            14.0  297.0\n",
       "Meredith Smith        16.0  291.0\n",
       "Marie Custead         17.0  290.0\n",
       "Heather Sanchez       18.0  289.0\n",
       "Maggie Ingell         19.0  288.0\n",
       "Lexi Beeson           20.0  286.0\n",
       "Courtney Walker       21.0  285.0\n",
       "Heather Gammel        23.0  281.0\n",
       "Hollye Henderson      24.0  279.0\n",
       "Amanda Garces         25.0  278.0"
      ]
     },
     "execution_count": 22,
     "metadata": {},
     "output_type": "execute_result"
    }
   ],
   "source": [
    "tfx_paw_e1 = tfx_paw[['Q1R', 'Q1S']].sort_values('Q1S', ascending=False)\n",
    "tfx_paw_e1.iloc[:24]"
   ]
  },
  {
   "cell_type": "markdown",
   "metadata": {},
   "source": [
    "In the FloElite leaderboard data, there is no 22nd place. Ranks are only skipped if more than one athlete has the same score, and this is not the case here. It does happen for 14th place, and the data above correctly skips 15th place because the scores for Amber Carrillo and Leah Irons are the same. However, for 22nd place there is no explanation: Courtney Walker is ranked 21st with 285 points, but then Heather Gammel is ranked 23rd with 281 points and then Holly Henderson is at 24th with 279. There are no duplicate scores, yet 22nd place is skipped. This causes Amanda Garces rank for Event 1 to be 25th instead of 24th. The FloElite leaderboard website does not have the function to sort individual events, but purusing the leaderboard will show that there is no 22nd place where there should be.\n",
    "\n",
    "The FloElite leaderboard exhibits a different issue for Event 2. Printing the first 21st ranks and their respective scores from the FloElite data:"
   ]
  },
  {
   "cell_type": "code",
   "execution_count": 23,
   "metadata": {
    "collapsed": false
   },
   "outputs": [
    {
     "data": {
      "text/html": [
       "\n",
       "          <script src=\"/static/components/requirejs/require.js\"></script>\n",
       "          <script>\n",
       "            requirejs.config({\n",
       "              paths: {\n",
       "                base: '/static/base',\n",
       "              },\n",
       "            });\n",
       "          </script>\n",
       "          "
      ],
      "text/plain": [
       "<IPython.core.display.HTML object>"
      ]
     },
     "metadata": {},
     "output_type": "display_data"
    },
    {
     "data": {
      "text/html": [
       "<div>\n",
       "<table border=\"1\" class=\"dataframe\">\n",
       "  <thead>\n",
       "    <tr style=\"text-align: right;\">\n",
       "      <th></th>\n",
       "      <th>Q2R</th>\n",
       "      <th>Q2S</th>\n",
       "    </tr>\n",
       "    <tr>\n",
       "      <th>Athlete</th>\n",
       "      <th></th>\n",
       "      <th></th>\n",
       "    </tr>\n",
       "  </thead>\n",
       "  <tbody>\n",
       "    <tr>\n",
       "      <th>Alexis Johnson</th>\n",
       "      <td>1.0</td>\n",
       "      <td>369.0</td>\n",
       "    </tr>\n",
       "    <tr>\n",
       "      <th>Natalie Newhart</th>\n",
       "      <td>2.0</td>\n",
       "      <td>362.0</td>\n",
       "    </tr>\n",
       "    <tr>\n",
       "      <th>Brooke Haas</th>\n",
       "      <td>3.0</td>\n",
       "      <td>355.0</td>\n",
       "    </tr>\n",
       "    <tr>\n",
       "      <th>Leah Irons</th>\n",
       "      <td>3.0</td>\n",
       "      <td>355.0</td>\n",
       "    </tr>\n",
       "    <tr>\n",
       "      <th>Chely Galvan</th>\n",
       "      <td>5.0</td>\n",
       "      <td>353.0</td>\n",
       "    </tr>\n",
       "    <tr>\n",
       "      <th>Hollye Henderson</th>\n",
       "      <td>6.0</td>\n",
       "      <td>348.0</td>\n",
       "    </tr>\n",
       "    <tr>\n",
       "      <th>Amber Carrillo</th>\n",
       "      <td>7.0</td>\n",
       "      <td>346.0</td>\n",
       "    </tr>\n",
       "    <tr>\n",
       "      <th>Lydia Novotny</th>\n",
       "      <td>8.0</td>\n",
       "      <td>345.0</td>\n",
       "    </tr>\n",
       "    <tr>\n",
       "      <th>Courtney Walker</th>\n",
       "      <td>9.0</td>\n",
       "      <td>343.0</td>\n",
       "    </tr>\n",
       "    <tr>\n",
       "      <th>Rachel Garibay</th>\n",
       "      <td>9.0</td>\n",
       "      <td>343.0</td>\n",
       "    </tr>\n",
       "    <tr>\n",
       "      <th>Meredith Smith</th>\n",
       "      <td>11.0</td>\n",
       "      <td>342.0</td>\n",
       "    </tr>\n",
       "    <tr>\n",
       "      <th>Julie VanHoy</th>\n",
       "      <td>12.0</td>\n",
       "      <td>341.0</td>\n",
       "    </tr>\n",
       "    <tr>\n",
       "      <th>Marisa De los Santos</th>\n",
       "      <td>13.0</td>\n",
       "      <td>340.0</td>\n",
       "    </tr>\n",
       "    <tr>\n",
       "      <th>Allison Ralfs</th>\n",
       "      <td>13.0</td>\n",
       "      <td>340.0</td>\n",
       "    </tr>\n",
       "    <tr>\n",
       "      <th>April Bullock</th>\n",
       "      <td>15.0</td>\n",
       "      <td>335.0</td>\n",
       "    </tr>\n",
       "    <tr>\n",
       "      <th>Heather Sanchez</th>\n",
       "      <td>15.0</td>\n",
       "      <td>335.0</td>\n",
       "    </tr>\n",
       "    <tr>\n",
       "      <th>Maggie Ingell</th>\n",
       "      <td>17.0</td>\n",
       "      <td>333.0</td>\n",
       "    </tr>\n",
       "    <tr>\n",
       "      <th>Stephany Osorto</th>\n",
       "      <td>17.0</td>\n",
       "      <td>333.0</td>\n",
       "    </tr>\n",
       "    <tr>\n",
       "      <th>Kita Dicks</th>\n",
       "      <td>9.0</td>\n",
       "      <td>333.0</td>\n",
       "    </tr>\n",
       "    <tr>\n",
       "      <th>Andilauren Garcia</th>\n",
       "      <td>19.0</td>\n",
       "      <td>324.0</td>\n",
       "    </tr>\n",
       "    <tr>\n",
       "      <th>Vanessa McCoy</th>\n",
       "      <td>20.0</td>\n",
       "      <td>321.0</td>\n",
       "    </tr>\n",
       "    <tr>\n",
       "      <th>Amanda Garces</th>\n",
       "      <td>21.0</td>\n",
       "      <td>319.0</td>\n",
       "    </tr>\n",
       "  </tbody>\n",
       "</table>\n",
       "</div>"
      ],
      "text/plain": [
       "                       Q2R    Q2S\n",
       "Athlete                          \n",
       "Alexis Johnson         1.0  369.0\n",
       "Natalie Newhart        2.0  362.0\n",
       "Brooke Haas            3.0  355.0\n",
       "Leah Irons             3.0  355.0\n",
       "Chely Galvan           5.0  353.0\n",
       "Hollye Henderson       6.0  348.0\n",
       "Amber Carrillo         7.0  346.0\n",
       "Lydia Novotny          8.0  345.0\n",
       "Courtney Walker        9.0  343.0\n",
       "Rachel Garibay         9.0  343.0\n",
       "Meredith Smith        11.0  342.0\n",
       "Julie VanHoy          12.0  341.0\n",
       "Marisa De los Santos  13.0  340.0\n",
       "Allison Ralfs         13.0  340.0\n",
       "April Bullock         15.0  335.0\n",
       "Heather Sanchez       15.0  335.0\n",
       "Maggie Ingell         17.0  333.0\n",
       "Stephany Osorto       17.0  333.0\n",
       "Kita Dicks             9.0  333.0\n",
       "Andilauren Garcia     19.0  324.0\n",
       "Vanessa McCoy         20.0  321.0\n",
       "Amanda Garces         21.0  319.0"
      ]
     },
     "execution_count": 23,
     "metadata": {},
     "output_type": "execute_result"
    }
   ],
   "source": [
    "tfx_paw_e2 = tfx_paw[['Q2R', 'Q2S']].sort_values('Q2S', ascending=False)\n",
    "tfx_paw_e2.iloc[:22]"
   ]
  },
  {
   "cell_type": "markdown",
   "metadata": {},
   "source": [
    "There is a clear outlier in the original Event 2 data: Kita Dicks received a rank of 9th but only had a score of 333. Rachel Garibay and Courtney Walker both also received 9th, but they had scores of 343. This is fairly easy to double check on the leaderboard.\n",
    "\n",
    "![](rachel_garibay.png \"\")\n",
    "\n",
    "Compared to:\n",
    "\n",
    "![](kita_dicks.png \"\")\n",
    "\n",
    "In this analysis, it causes Amanda Garces rank to change from 21st to 22nd. Last, consider Event 3. Printing the first 32 ranks and their respective scores from the FloElite data shows a similar issue as from Event 2."
   ]
  },
  {
   "cell_type": "code",
   "execution_count": 24,
   "metadata": {
    "collapsed": false
   },
   "outputs": [
    {
     "data": {
      "text/html": [
       "\n",
       "          <script src=\"/static/components/requirejs/require.js\"></script>\n",
       "          <script>\n",
       "            requirejs.config({\n",
       "              paths: {\n",
       "                base: '/static/base',\n",
       "              },\n",
       "            });\n",
       "          </script>\n",
       "          "
      ],
      "text/plain": [
       "<IPython.core.display.HTML object>"
      ]
     },
     "metadata": {},
     "output_type": "display_data"
    },
    {
     "data": {
      "text/html": [
       "<div>\n",
       "<table border=\"1\" class=\"dataframe\">\n",
       "  <thead>\n",
       "    <tr style=\"text-align: right;\">\n",
       "      <th></th>\n",
       "      <th>Q3R</th>\n",
       "      <th>Q3S</th>\n",
       "    </tr>\n",
       "    <tr>\n",
       "      <th>Athlete</th>\n",
       "      <th></th>\n",
       "      <th></th>\n",
       "    </tr>\n",
       "  </thead>\n",
       "  <tbody>\n",
       "    <tr>\n",
       "      <th>Laura Calicutt</th>\n",
       "      <td>1.0</td>\n",
       "      <td>227.0</td>\n",
       "    </tr>\n",
       "    <tr>\n",
       "      <th>Rachel Garibay</th>\n",
       "      <td>2.0</td>\n",
       "      <td>225.0</td>\n",
       "    </tr>\n",
       "    <tr>\n",
       "      <th>Claire Garcia</th>\n",
       "      <td>3.0</td>\n",
       "      <td>220.0</td>\n",
       "    </tr>\n",
       "    <tr>\n",
       "      <th>Brooke Haas</th>\n",
       "      <td>4.0</td>\n",
       "      <td>219.0</td>\n",
       "    </tr>\n",
       "    <tr>\n",
       "      <th>Stephany Osorto</th>\n",
       "      <td>5.0</td>\n",
       "      <td>218.0</td>\n",
       "    </tr>\n",
       "    <tr>\n",
       "      <th>Shannon Kaylor</th>\n",
       "      <td>5.0</td>\n",
       "      <td>218.0</td>\n",
       "    </tr>\n",
       "    <tr>\n",
       "      <th>Jessica Shaw</th>\n",
       "      <td>7.0</td>\n",
       "      <td>215.0</td>\n",
       "    </tr>\n",
       "    <tr>\n",
       "      <th>Heather Sanchez</th>\n",
       "      <td>8.0</td>\n",
       "      <td>210.0</td>\n",
       "    </tr>\n",
       "    <tr>\n",
       "      <th>Allison Ralfs</th>\n",
       "      <td>8.0</td>\n",
       "      <td>210.0</td>\n",
       "    </tr>\n",
       "    <tr>\n",
       "      <th>Maggie Ingell</th>\n",
       "      <td>8.0</td>\n",
       "      <td>210.0</td>\n",
       "    </tr>\n",
       "    <tr>\n",
       "      <th>Alexis Johnson</th>\n",
       "      <td>11.0</td>\n",
       "      <td>207.0</td>\n",
       "    </tr>\n",
       "    <tr>\n",
       "      <th>Kita Dicks</th>\n",
       "      <td>10.0</td>\n",
       "      <td>205.0</td>\n",
       "    </tr>\n",
       "    <tr>\n",
       "      <th>Yesenia Pulido</th>\n",
       "      <td>12.0</td>\n",
       "      <td>205.0</td>\n",
       "    </tr>\n",
       "    <tr>\n",
       "      <th>Michelle Wickliffe</th>\n",
       "      <td>12.0</td>\n",
       "      <td>205.0</td>\n",
       "    </tr>\n",
       "    <tr>\n",
       "      <th>Dezarey Rodriguez</th>\n",
       "      <td>12.0</td>\n",
       "      <td>205.0</td>\n",
       "    </tr>\n",
       "    <tr>\n",
       "      <th>Ari Mizell</th>\n",
       "      <td>12.0</td>\n",
       "      <td>205.0</td>\n",
       "    </tr>\n",
       "    <tr>\n",
       "      <th>Andee Keefe</th>\n",
       "      <td>12.0</td>\n",
       "      <td>205.0</td>\n",
       "    </tr>\n",
       "    <tr>\n",
       "      <th>Laura McCullough</th>\n",
       "      <td>12.0</td>\n",
       "      <td>205.0</td>\n",
       "    </tr>\n",
       "    <tr>\n",
       "      <th>Courtney Walker</th>\n",
       "      <td>12.0</td>\n",
       "      <td>205.0</td>\n",
       "    </tr>\n",
       "    <tr>\n",
       "      <th>Megan Munsell</th>\n",
       "      <td>12.0</td>\n",
       "      <td>205.0</td>\n",
       "    </tr>\n",
       "    <tr>\n",
       "      <th>Heather Shuttlesworth</th>\n",
       "      <td>12.0</td>\n",
       "      <td>205.0</td>\n",
       "    </tr>\n",
       "    <tr>\n",
       "      <th>Taylor Cooley</th>\n",
       "      <td>12.0</td>\n",
       "      <td>205.0</td>\n",
       "    </tr>\n",
       "    <tr>\n",
       "      <th>Heather Gammel</th>\n",
       "      <td>12.0</td>\n",
       "      <td>205.0</td>\n",
       "    </tr>\n",
       "    <tr>\n",
       "      <th>Sophia Davenport</th>\n",
       "      <td>23.0</td>\n",
       "      <td>200.0</td>\n",
       "    </tr>\n",
       "    <tr>\n",
       "      <th>Mary Lou Womack</th>\n",
       "      <td>23.0</td>\n",
       "      <td>200.0</td>\n",
       "    </tr>\n",
       "    <tr>\n",
       "      <th>Casidy Caldwell</th>\n",
       "      <td>25.0</td>\n",
       "      <td>197.0</td>\n",
       "    </tr>\n",
       "    <tr>\n",
       "      <th>Meredith Smith</th>\n",
       "      <td>25.0</td>\n",
       "      <td>197.0</td>\n",
       "    </tr>\n",
       "    <tr>\n",
       "      <th>Megan Miller</th>\n",
       "      <td>27.0</td>\n",
       "      <td>195.0</td>\n",
       "    </tr>\n",
       "    <tr>\n",
       "      <th>Anabelle Canchola</th>\n",
       "      <td>27.0</td>\n",
       "      <td>195.0</td>\n",
       "    </tr>\n",
       "    <tr>\n",
       "      <th>Morgan Henderson</th>\n",
       "      <td>27.0</td>\n",
       "      <td>195.0</td>\n",
       "    </tr>\n",
       "    <tr>\n",
       "      <th>Dani Howell</th>\n",
       "      <td>27.0</td>\n",
       "      <td>195.0</td>\n",
       "    </tr>\n",
       "    <tr>\n",
       "      <th>Amanda Garces</th>\n",
       "      <td>27.0</td>\n",
       "      <td>195.0</td>\n",
       "    </tr>\n",
       "  </tbody>\n",
       "</table>\n",
       "</div>"
      ],
      "text/plain": [
       "                        Q3R    Q3S\n",
       "Athlete                           \n",
       "Laura Calicutt          1.0  227.0\n",
       "Rachel Garibay          2.0  225.0\n",
       "Claire Garcia           3.0  220.0\n",
       "Brooke Haas             4.0  219.0\n",
       "Stephany Osorto         5.0  218.0\n",
       "Shannon Kaylor          5.0  218.0\n",
       "Jessica Shaw            7.0  215.0\n",
       "Heather Sanchez         8.0  210.0\n",
       "Allison Ralfs           8.0  210.0\n",
       "Maggie Ingell           8.0  210.0\n",
       "Alexis Johnson         11.0  207.0\n",
       "Kita Dicks             10.0  205.0\n",
       "Yesenia Pulido         12.0  205.0\n",
       "Michelle Wickliffe     12.0  205.0\n",
       "Dezarey Rodriguez      12.0  205.0\n",
       "Ari Mizell             12.0  205.0\n",
       "Andee Keefe            12.0  205.0\n",
       "Laura McCullough       12.0  205.0\n",
       "Courtney Walker        12.0  205.0\n",
       "Megan Munsell          12.0  205.0\n",
       "Heather Shuttlesworth  12.0  205.0\n",
       "Taylor Cooley          12.0  205.0\n",
       "Heather Gammel         12.0  205.0\n",
       "Sophia Davenport       23.0  200.0\n",
       "Mary Lou Womack        23.0  200.0\n",
       "Casidy Caldwell        25.0  197.0\n",
       "Meredith Smith         25.0  197.0\n",
       "Megan Miller           27.0  195.0\n",
       "Anabelle Canchola      27.0  195.0\n",
       "Morgan Henderson       27.0  195.0\n",
       "Dani Howell            27.0  195.0\n",
       "Amanda Garces          27.0  195.0"
      ]
     },
     "execution_count": 24,
     "metadata": {},
     "output_type": "execute_result"
    }
   ],
   "source": [
    "tfx_paw_e3 = tfx_paw[['Q3R', 'Q3S']].sort_values('Q3S', ascending=False)\n",
    "tfx_paw_e3.iloc[:32]"
   ]
  },
  {
   "cell_type": "markdown",
   "metadata": {},
   "source": [
    "Again, Kita Dicks was ranked 10th, when she should have been 12th. This caused Amanda Garces rank to go from 27th to 28th. \n",
    "\n",
    "Now, an athlete's Total Score is the sum of their individual event ranks, and Amanda's net difference after reevalutating these three events is +1 points. So, it may seem unintuitive that, although her total points went up, her overall rank went up too (lower numerical value), but, remember, one incorrect rank has the potential to cause many athletes' ranks to be incorrect. Thus, many athletes scores went up due to this issue with Kita Dicks rankings in two events. This is showcased in the plots above. \n",
    "\n",
    "In conclusion, this analysis indicates Amanda Garces could have received a qualifying spot for the Women's Pro division at TFX in January, but may not have based on the FloElite leaderboard data."
   ]
  },
  {
   "cell_type": "markdown",
   "metadata": {},
   "source": [
    "### Intermediate/Scaled Women's Division\n",
    "For the Intermediate/Scaled Women division, the cutoff between Intermediate and Scaled divisions is at 60th place. The FloElite leaderboard has Crystal Cadena at 60th place, but this analysis ranks Crystal at 62nd place. However, it did not displace someone else who also qualified for the Intermediate division."
   ]
  },
  {
   "cell_type": "code",
   "execution_count": 25,
   "metadata": {
    "collapsed": false
   },
   "outputs": [
    {
     "data": {
      "text/html": [
       "\n",
       "          <script src=\"/static/components/requirejs/require.js\"></script>\n",
       "          <script>\n",
       "            requirejs.config({\n",
       "              paths: {\n",
       "                base: '/static/base',\n",
       "              },\n",
       "            });\n",
       "          </script>\n",
       "          "
      ],
      "text/plain": [
       "<IPython.core.display.HTML object>"
      ]
     },
     "metadata": {},
     "output_type": "display_data"
    },
    {
     "name": "stdout",
     "output_type": "stream",
     "text": [
      "Extracting data from the leaderboard...\n",
      "\n",
      "Are all the ranks and scores correct? False\n",
      "\n",
      "Did all qualifying athletes correctly receive a qualifying spot? True\n",
      "\n",
      "Qualifying athletes with rank discrepancies:\n",
      "Athlete                  FloElite Rank  Recomputed Rank\n",
      "Kirby Leipsic            46             45             \n",
      "Crystal Turi             50             49             \n",
      "Lexy Diaz                53             54             \n",
      "Jordan Schilling         58             59             \n",
      "Krissy Lucas             59             58             \n",
      "Crystal Cadena           60             62             \n",
      "Edna Martinez            64             63             \n",
      "Amanda Henry             77             78             \n",
      "Lillian Macias           79             78             \n",
      "Kelley Lensing           83             82             \n",
      "Amanda Chappell          89             88             \n",
      "Carla Noel               89             90             \n",
      "Heather Hofstetter       91             90             \n",
      "Ashley Garrett           94             93             \n",
      "Ashley Perez             95             96             \n",
      "Amber Lamontagne         97             96             \n"
     ]
    }
   ],
   "source": [
    "_ = verify(\"ISW\", False)"
   ]
  },
  {
   "cell_type": "markdown",
   "metadata": {},
   "source": [
    "### Masters 35-39 Men Division\n",
    "The first division that has no rank differences with the qualifying athletes."
   ]
  },
  {
   "cell_type": "code",
   "execution_count": 26,
   "metadata": {
    "collapsed": false
   },
   "outputs": [
    {
     "data": {
      "text/html": [
       "\n",
       "          <script src=\"/static/components/requirejs/require.js\"></script>\n",
       "          <script>\n",
       "            requirejs.config({\n",
       "              paths: {\n",
       "                base: '/static/base',\n",
       "              },\n",
       "            });\n",
       "          </script>\n",
       "          "
      ],
      "text/plain": [
       "<IPython.core.display.HTML object>"
      ]
     },
     "metadata": {},
     "output_type": "display_data"
    },
    {
     "name": "stdout",
     "output_type": "stream",
     "text": [
      "Extracting data from the leaderboard...\n",
      "\n",
      "Are all the ranks and scores correct? False\n",
      "\n",
      "Did all qualifying athletes correctly receive a qualifying spot? True\n",
      "\n",
      "Qualifying athletes with rank discrepancies:\n",
      "Athlete                  FloElite Rank  Recomputed Rank\n"
     ]
    }
   ],
   "source": [
    "_ = verify(\"M35M\", False)"
   ]
  },
  {
   "cell_type": "markdown",
   "metadata": {},
   "source": [
    "### Masters 35-39 Women Division\n",
    "Assessing the Masters 35-39 Womon's division."
   ]
  },
  {
   "cell_type": "code",
   "execution_count": 27,
   "metadata": {
    "collapsed": false
   },
   "outputs": [
    {
     "data": {
      "text/html": [
       "\n",
       "          <script src=\"/static/components/requirejs/require.js\"></script>\n",
       "          <script>\n",
       "            requirejs.config({\n",
       "              paths: {\n",
       "                base: '/static/base',\n",
       "              },\n",
       "            });\n",
       "          </script>\n",
       "          "
      ],
      "text/plain": [
       "<IPython.core.display.HTML object>"
      ]
     },
     "metadata": {},
     "output_type": "display_data"
    },
    {
     "name": "stdout",
     "output_type": "stream",
     "text": [
      "Extracting data from the leaderboard...\n",
      "\n",
      "Are all the ranks and scores correct? False\n",
      "\n",
      "Did all qualifying athletes correctly receive a qualifying spot? False\n",
      "\n",
      "Athletes ranked outside the qualifier cut-off, but actually qualified:\n",
      "['Raquel Waddles']\n",
      "\n",
      "Athletes ranked within the qualifier cut-off, but didn't actually qualified:\n",
      "['Chasmi Stewart']\n",
      "\n",
      "Qualifying athletes with rank discrepancies:\n",
      "Athlete                  FloElite Rank  Recomputed Rank\n",
      "Chasmi Stewart           20             25             \n",
      "Raquel Waddles           22             20             \n"
     ]
    }
   ],
   "source": [
    "tfx_m35w, tfx_m35w_u = verify(\"M35W\", False)"
   ]
  },
  {
   "cell_type": "markdown",
   "metadata": {},
   "source": [
    "This division actually has a pecularity in the data, which made it looked like Raquel Waddles should have qualified, but didn't. Chasmi Stewart entered a zero score for Event 4. She did not leave it blank, she actually entered a zero score. Thus, the issues has to do with the assumptions about applying the Completiton Rule.  When the data is scraped from the web, blank entries are filled with zero scores. Then in this analysis, when computing Total Score, the Completion Rule is applied. If an athlete has a zero score for any event, they last overall and this is what happened to Chasmi Stewart, here. FloElite must make a distinction between blank or no-scores and zero scores in their analysis.\n",
    "\n",
    "If the Completion Rule is not applied and a zero score is considered to be a valid score, then all is well in this division."
   ]
  },
  {
   "cell_type": "code",
   "execution_count": 28,
   "metadata": {
    "collapsed": false
   },
   "outputs": [
    {
     "data": {
      "text/html": [
       "\n",
       "          <script src=\"/static/components/requirejs/require.js\"></script>\n",
       "          <script>\n",
       "            requirejs.config({\n",
       "              paths: {\n",
       "                base: '/static/base',\n",
       "              },\n",
       "            });\n",
       "          </script>\n",
       "          "
      ],
      "text/plain": [
       "<IPython.core.display.HTML object>"
      ]
     },
     "metadata": {},
     "output_type": "display_data"
    },
    {
     "name": "stdout",
     "output_type": "stream",
     "text": [
      "Extracting data from the leaderboard...\n",
      "\n",
      "Are all the ranks and scores correct? False\n",
      "\n",
      "Did all qualifying athletes correctly receive a qualifying spot? True\n",
      "\n",
      "Qualifying athletes with rank discrepancies:\n",
      "Athlete                  FloElite Rank  Recomputed Rank\n"
     ]
    }
   ],
   "source": [
    "tfx_m35w, tfx_m35w_u = verify(\"M35W\", False, False)"
   ]
  },
  {
   "cell_type": "markdown",
   "metadata": {},
   "source": [
    "Thus, an important question is whether a zero score is considered a valid score as oppose to no score? Did an athlete \"complete\" an event if they did not complete any reps or lift any weight? The implications are important as seen in ranking athletes in the Pro/Amateur Men's division."
   ]
  },
  {
   "cell_type": "markdown",
   "metadata": {},
   "source": [
    "### Masters 40-44 Men/Women Division\n",
    "Both of these division correctly qualified the athletes."
   ]
  },
  {
   "cell_type": "code",
   "execution_count": 29,
   "metadata": {
    "collapsed": false
   },
   "outputs": [
    {
     "data": {
      "text/html": [
       "\n",
       "          <script src=\"/static/components/requirejs/require.js\"></script>\n",
       "          <script>\n",
       "            requirejs.config({\n",
       "              paths: {\n",
       "                base: '/static/base',\n",
       "              },\n",
       "            });\n",
       "          </script>\n",
       "          "
      ],
      "text/plain": [
       "<IPython.core.display.HTML object>"
      ]
     },
     "metadata": {},
     "output_type": "display_data"
    },
    {
     "name": "stdout",
     "output_type": "stream",
     "text": [
      "Extracting data from the leaderboard...\n",
      "\n",
      "Are all the ranks and scores correct? False\n",
      "\n",
      "Did all qualifying athletes correctly receive a qualifying spot? True\n",
      "\n",
      "Qualifying athletes with rank discrepancies:\n",
      "Athlete                  FloElite Rank  Recomputed Rank\n"
     ]
    }
   ],
   "source": [
    "_ = verify(\"M40M\", False)"
   ]
  },
  {
   "cell_type": "code",
   "execution_count": 30,
   "metadata": {
    "collapsed": false
   },
   "outputs": [
    {
     "data": {
      "text/html": [
       "\n",
       "          <script src=\"/static/components/requirejs/require.js\"></script>\n",
       "          <script>\n",
       "            requirejs.config({\n",
       "              paths: {\n",
       "                base: '/static/base',\n",
       "              },\n",
       "            });\n",
       "          </script>\n",
       "          "
      ],
      "text/plain": [
       "<IPython.core.display.HTML object>"
      ]
     },
     "metadata": {},
     "output_type": "display_data"
    },
    {
     "name": "stdout",
     "output_type": "stream",
     "text": [
      "Extracting data from the leaderboard...\n",
      "\n",
      "Are all the ranks and scores correct? False\n",
      "\n",
      "Did all qualifying athletes correctly receive a qualifying spot? True\n",
      "\n",
      "Qualifying athletes with rank discrepancies:\n",
      "Athlete                  FloElite Rank  Recomputed Rank\n"
     ]
    }
   ],
   "source": [
    "_ = verify(\"M40W\", False)"
   ]
  },
  {
   "cell_type": "markdown",
   "metadata": {},
   "source": [
    "### Masters 45-49 Men/Women's Division\n",
    "Both of these division correctly qualified the athletes, although a few ranks are different in the women's division."
   ]
  },
  {
   "cell_type": "code",
   "execution_count": 31,
   "metadata": {
    "collapsed": false
   },
   "outputs": [
    {
     "data": {
      "text/html": [
       "\n",
       "          <script src=\"/static/components/requirejs/require.js\"></script>\n",
       "          <script>\n",
       "            requirejs.config({\n",
       "              paths: {\n",
       "                base: '/static/base',\n",
       "              },\n",
       "            });\n",
       "          </script>\n",
       "          "
      ],
      "text/plain": [
       "<IPython.core.display.HTML object>"
      ]
     },
     "metadata": {},
     "output_type": "display_data"
    },
    {
     "name": "stdout",
     "output_type": "stream",
     "text": [
      "Extracting data from the leaderboard...\n",
      "\n",
      "Are all the ranks and scores correct? False\n",
      "\n",
      "Did all qualifying athletes correctly receive a qualifying spot? True\n",
      "\n",
      "Qualifying athletes with rank discrepancies:\n",
      "Athlete                  FloElite Rank  Recomputed Rank\n"
     ]
    }
   ],
   "source": [
    "_ = verify(\"M45M\", False)"
   ]
  },
  {
   "cell_type": "code",
   "execution_count": 32,
   "metadata": {
    "collapsed": false
   },
   "outputs": [
    {
     "data": {
      "text/html": [
       "\n",
       "          <script src=\"/static/components/requirejs/require.js\"></script>\n",
       "          <script>\n",
       "            requirejs.config({\n",
       "              paths: {\n",
       "                base: '/static/base',\n",
       "              },\n",
       "            });\n",
       "          </script>\n",
       "          "
      ],
      "text/plain": [
       "<IPython.core.display.HTML object>"
      ]
     },
     "metadata": {},
     "output_type": "display_data"
    },
    {
     "name": "stdout",
     "output_type": "stream",
     "text": [
      "Extracting data from the leaderboard...\n",
      "\n",
      "Are all the ranks and scores correct? False\n",
      "\n",
      "Did all qualifying athletes correctly receive a qualifying spot? True\n",
      "\n",
      "Qualifying athletes with rank discrepancies:\n",
      "Athlete                  FloElite Rank  Recomputed Rank\n",
      "Rebecca Cates            6              5              \n",
      "Robin Sproba             6              5              \n",
      "Angela Simmons           8              7              \n",
      "Kimberley Drobny         9              8              \n",
      "Susan Norris             10             9              \n",
      "Tara Huntress            11             10             \n"
     ]
    }
   ],
   "source": [
    "_ = verify(\"M45W\", False)"
   ]
  },
  {
   "cell_type": "markdown",
   "metadata": {},
   "source": [
    "### Masters 50+ Men/Women's Division\n",
    "Both of these division correctly qualified the athletes!"
   ]
  },
  {
   "cell_type": "code",
   "execution_count": 33,
   "metadata": {
    "collapsed": false
   },
   "outputs": [
    {
     "data": {
      "text/html": [
       "\n",
       "          <script src=\"/static/components/requirejs/require.js\"></script>\n",
       "          <script>\n",
       "            requirejs.config({\n",
       "              paths: {\n",
       "                base: '/static/base',\n",
       "              },\n",
       "            });\n",
       "          </script>\n",
       "          "
      ],
      "text/plain": [
       "<IPython.core.display.HTML object>"
      ]
     },
     "metadata": {},
     "output_type": "display_data"
    },
    {
     "name": "stdout",
     "output_type": "stream",
     "text": [
      "Extracting data from the leaderboard...\n",
      "\n",
      "Are all the ranks and scores correct? False\n",
      "\n",
      "Did all qualifying athletes correctly receive a qualifying spot? True\n",
      "\n",
      "Qualifying athletes with rank discrepancies:\n",
      "Athlete                  FloElite Rank  Recomputed Rank\n"
     ]
    }
   ],
   "source": [
    "_ = verify(\"M50W\", False)"
   ]
  },
  {
   "cell_type": "code",
   "execution_count": 34,
   "metadata": {
    "collapsed": false
   },
   "outputs": [
    {
     "data": {
      "text/html": [
       "\n",
       "          <script src=\"/static/components/requirejs/require.js\"></script>\n",
       "          <script>\n",
       "            requirejs.config({\n",
       "              paths: {\n",
       "                base: '/static/base',\n",
       "              },\n",
       "            });\n",
       "          </script>\n",
       "          "
      ],
      "text/plain": [
       "<IPython.core.display.HTML object>"
      ]
     },
     "metadata": {},
     "output_type": "display_data"
    },
    {
     "name": "stdout",
     "output_type": "stream",
     "text": [
      "Extracting data from the leaderboard...\n",
      "\n",
      "Are all the ranks and scores correct? False\n",
      "\n",
      "Did all qualifying athletes correctly receive a qualifying spot? True\n",
      "\n",
      "Qualifying athletes with rank discrepancies:\n",
      "Athlete                  FloElite Rank  Recomputed Rank\n"
     ]
    }
   ],
   "source": [
    "_ = verify(\"M50W\", False)"
   ]
  },
  {
   "cell_type": "markdown",
   "metadata": {},
   "source": [
    "### Teen Division\n",
    "All the teen divisions check out too!"
   ]
  },
  {
   "cell_type": "code",
   "execution_count": 35,
   "metadata": {
    "collapsed": false
   },
   "outputs": [
    {
     "data": {
      "text/html": [
       "\n",
       "          <script src=\"/static/components/requirejs/require.js\"></script>\n",
       "          <script>\n",
       "            requirejs.config({\n",
       "              paths: {\n",
       "                base: '/static/base',\n",
       "              },\n",
       "            });\n",
       "          </script>\n",
       "          "
      ],
      "text/plain": [
       "<IPython.core.display.HTML object>"
      ]
     },
     "metadata": {},
     "output_type": "display_data"
    },
    {
     "name": "stdout",
     "output_type": "stream",
     "text": [
      "Extracting data from the leaderboard...\n",
      "\n",
      "Are all the ranks and scores correct? False\n",
      "\n",
      "Did all qualifying athletes correctly receive a qualifying spot? True\n",
      "\n",
      "Qualifying athletes with rank discrepancies:\n",
      "Athlete                  FloElite Rank  Recomputed Rank\n"
     ]
    }
   ],
   "source": [
    "_ = verify(\"T14M\", False)"
   ]
  },
  {
   "cell_type": "code",
   "execution_count": 36,
   "metadata": {
    "collapsed": false
   },
   "outputs": [
    {
     "data": {
      "text/html": [
       "\n",
       "          <script src=\"/static/components/requirejs/require.js\"></script>\n",
       "          <script>\n",
       "            requirejs.config({\n",
       "              paths: {\n",
       "                base: '/static/base',\n",
       "              },\n",
       "            });\n",
       "          </script>\n",
       "          "
      ],
      "text/plain": [
       "<IPython.core.display.HTML object>"
      ]
     },
     "metadata": {},
     "output_type": "display_data"
    },
    {
     "name": "stdout",
     "output_type": "stream",
     "text": [
      "Extracting data from the leaderboard...\n",
      "\n",
      "Are all the ranks and scores correct? False\n",
      "\n",
      "Did all qualifying athletes correctly receive a qualifying spot? True\n",
      "\n",
      "Qualifying athletes with rank discrepancies:\n",
      "Athlete                  FloElite Rank  Recomputed Rank\n"
     ]
    }
   ],
   "source": [
    "_ = verify(\"T14W\", False)"
   ]
  },
  {
   "cell_type": "code",
   "execution_count": 37,
   "metadata": {
    "collapsed": false
   },
   "outputs": [
    {
     "data": {
      "text/html": [
       "\n",
       "          <script src=\"/static/components/requirejs/require.js\"></script>\n",
       "          <script>\n",
       "            requirejs.config({\n",
       "              paths: {\n",
       "                base: '/static/base',\n",
       "              },\n",
       "            });\n",
       "          </script>\n",
       "          "
      ],
      "text/plain": [
       "<IPython.core.display.HTML object>"
      ]
     },
     "metadata": {},
     "output_type": "display_data"
    },
    {
     "name": "stdout",
     "output_type": "stream",
     "text": [
      "Extracting data from the leaderboard...\n",
      "\n",
      "Are all the ranks and scores correct? False\n",
      "\n",
      "Did all qualifying athletes correctly receive a qualifying spot? True\n",
      "\n",
      "Qualifying athletes with rank discrepancies:\n",
      "Athlete                  FloElite Rank  Recomputed Rank\n"
     ]
    }
   ],
   "source": [
    "_ = verify(\"T16M\", False)"
   ]
  },
  {
   "cell_type": "code",
   "execution_count": 38,
   "metadata": {
    "collapsed": false
   },
   "outputs": [
    {
     "data": {
      "text/html": [
       "\n",
       "          <script src=\"/static/components/requirejs/require.js\"></script>\n",
       "          <script>\n",
       "            requirejs.config({\n",
       "              paths: {\n",
       "                base: '/static/base',\n",
       "              },\n",
       "            });\n",
       "          </script>\n",
       "          "
      ],
      "text/plain": [
       "<IPython.core.display.HTML object>"
      ]
     },
     "metadata": {},
     "output_type": "display_data"
    },
    {
     "name": "stdout",
     "output_type": "stream",
     "text": [
      "Extracting data from the leaderboard...\n",
      "\n",
      "Are all the ranks and scores correct? False\n",
      "\n",
      "Did all qualifying athletes correctly receive a qualifying spot? True\n",
      "\n",
      "Qualifying athletes with rank discrepancies:\n",
      "Athlete                  FloElite Rank  Recomputed Rank\n"
     ]
    }
   ],
   "source": [
    "_ = verify(\"T16W\", False)"
   ]
  },
  {
   "cell_type": "markdown",
   "metadata": {},
   "source": [
    "### Team Division\n",
    "The Team division has an extra layer that the HTML parser is unable to scrap from the web as is. So, there are no results for the Team division."
   ]
  },
  {
   "cell_type": "markdown",
   "metadata": {},
   "source": [
    "## Conclusion\n",
    "The analysis showcases irregularities in the results for the 2018 The Fittest Experience (TFX) Online Qualifier held in October 2017. The leaderboard results are hosted and assessed by a third-part company, FloElite. \n",
    "\n",
    "The details in this analysis showcase that a large percentage of athlete's ranks are not consistent within the expectations and rules of the TFX competition. The most significant finding is for the Women's Pro/Amature Division, where Amanda Garces may have been excluded from the Women's Pro Division due to inconsistencies in the rankings of other athletes in Events 1, 2 and 3. The Men's Pro/Amateur, the Intermediate/Scaled Men and Women, the Masters 35-39 Women and the Masters 45-49 Women's divisons all have rank irregularities in the qualifying spots, but the athletes in each of the divisions still correctly received qualifying spots. \n",
    "\n",
    "Furthermore, two special cases, the Pro/Amateur Men's division and the Masters 35-39 Women's division, demonstrate how different accounting of blank entries or zero scores could significantly change the outcome of the competition. Questions about the validity of a zero score for an individual event verses a blank entry or no-score needs to be considered to ensure athletes are correctly qualified. \n",
    "\n",
    "The hope is for this analysis to demonstrate the need for oversight and verification of the competition results. I call to action both [TFX](https://www.thefittestexperience.com/) and [FloElite](https://www.floelite.com/) to review these findings and assess internal processes to provide confidence and integrity in the results for the TFX competition in January."
   ]
  },
  {
   "cell_type": "code",
   "execution_count": 39,
   "metadata": {
    "collapsed": false
   },
   "outputs": [
    {
     "data": {
      "text/html": [
       "\n",
       "          <script src=\"/static/components/requirejs/require.js\"></script>\n",
       "          <script>\n",
       "            requirejs.config({\n",
       "              paths: {\n",
       "                base: '/static/base',\n",
       "              },\n",
       "            });\n",
       "          </script>\n",
       "          "
      ],
      "text/plain": [
       "<IPython.core.display.HTML object>"
      ]
     },
     "metadata": {},
     "output_type": "display_data"
    },
    {
     "name": "stdout",
     "output_type": "stream",
     "text": [
      "[NbConvertApp] Converting notebook TFX 2018 Qualifiers Validation.ipynb to html\n",
      "[NbConvertApp] Writing 1006539 bytes to TFX 2018 Qualifiers Validation.html\n"
     ]
    }
   ],
   "source": [
    "!jupyter nbconvert TFX\\ 2018\\ Qualifiers\\ Validation.ipynb --to html"
   ]
  }
 ],
 "metadata": {
  "kernelspec": {
   "display_name": "Python 3",
   "language": "python",
   "name": "python3"
  },
  "language_info": {
   "codemirror_mode": {
    "name": "ipython",
    "version": 3
   },
   "file_extension": ".py",
   "mimetype": "text/x-python",
   "name": "python",
   "nbconvert_exporter": "python",
   "pygments_lexer": "ipython3",
   "version": "3.5.2"
  }
 },
 "nbformat": 4,
 "nbformat_minor": 2
}
